{
 "cells": [
  {
   "cell_type": "markdown",
   "id": "0bb4e1ee",
   "metadata": {},
   "source": [
    "# Predicting Heart Disease using Machine Learning\n",
    "This is a dataset downloaded from Kaggle and it is re-processed dataset that was cross-checked with the original data **https://archive.ics.uci.edu/ml/datasets/Heart+Disease**"
   ]
  },
  {
   "cell_type": "markdown",
   "id": "382acbff",
   "metadata": {},
   "source": [
    "Target: Achieve 95% accuracy in predicting heart disease\n",
    "\n",
    "\n",
    "Following is the list of the columns and their meanings:\n",
    "\n",
    "1. age - age in years\n",
    "2. sex - (1 = male; 0 = female)\n",
    "3. cp - chest pain type\n",
    "    * 0: Typical angina: chest pain related decrease blood supply to the heart\n",
    "    * 1: Atypical angina: chest pain not related to heart\n",
    "    * 2: Non-anginal pain: typically esophageal spasms (non heart related)\n",
    "    * 3: Asymptomatic: chest pain not showing signs of disease\n",
    "4. trestbps - resting blood pressure (in mm Hg on admission to the hospital)\n",
    "   anything above 130-140 is typically cause for concern\n",
    "5. chol - serum cholestoral in mg/dl\n",
    "    * serum = LDL + HDL + .2 * triglycerides\n",
    "    * above 200 is cause for concern\n",
    "6. fbs - (fasting blood sugar > 120 mg/dl) (1 = true; 0 = false)\n",
    "    '>126' mg/dL signals diabetes\n",
    "7. restecg - resting electrocardiographic results\n",
    "    * 0: Nothing to note\n",
    "    * 1: ST-T Wave abnormality\n",
    "    can range from mild symptoms to severe problems\n",
    "    signals non-normal heart beat\n",
    "    * 2: Possible or definite left ventricular hypertrophy\n",
    "    Enlarged heart's main pumping chamber\n",
    "8. thalach - maximum heart rate achieved\n",
    "9. exang - exercise induced angina (1 = yes; 0 = no)\n",
    "10. oldpeak - ST depression induced by exercise relative to rest\n",
    "    * looks at stress of heart during exercise\n",
    "    * unhealthy heart will stress more\n",
    "11. slope - the slope of the peak exercise ST segment\n",
    "    * 0: Upsloping: better heart rate with excercise (uncommon)\n",
    "    * 1: Flatsloping: minimal change (typical healthy heart)\n",
    "    * 2: Downsloping: signs of unhealthy heart\n",
    "12. ca - number of major vessels (0-3) colored by flourosopy\n",
    "    * colored vessel means the doctor can see the blood passing through\n",
    "    * the more blood movement the better (no clots)\n",
    "13. thal - thalium stress result\n",
    "    * 1,3: normal\n",
    "    * 6: fixed defect: used to be defect but ok now\n",
    "    * 7: reversable defect: no proper blood movement when excercising\n",
    "14. target - have disease or not (1=yes, 0=no) (= the predicted attribute)"
   ]
  },
  {
   "cell_type": "code",
   "execution_count": 1,
   "id": "5b66f260",
   "metadata": {},
   "outputs": [],
   "source": [
    "import numpy as np\n",
    "import pandas as pd\n",
    "import matplotlib.pyplot as plt\n",
    "import seaborn as sns\n",
    "%matplotlib inline\n",
    "\n"
   ]
  },
  {
   "cell_type": "code",
   "execution_count": 2,
   "id": "824557d2",
   "metadata": {},
   "outputs": [],
   "source": [
    "df_og = pd.read_csv('heart-disease.csv')"
   ]
  },
  {
   "cell_type": "code",
   "execution_count": 3,
   "id": "d79b9f85",
   "metadata": {},
   "outputs": [],
   "source": [
    "df = df_og.copy()"
   ]
  },
  {
   "cell_type": "code",
   "execution_count": 4,
   "id": "6e4d6438",
   "metadata": {},
   "outputs": [
    {
     "data": {
      "text/html": [
       "<div>\n",
       "<style scoped>\n",
       "    .dataframe tbody tr th:only-of-type {\n",
       "        vertical-align: middle;\n",
       "    }\n",
       "\n",
       "    .dataframe tbody tr th {\n",
       "        vertical-align: top;\n",
       "    }\n",
       "\n",
       "    .dataframe thead th {\n",
       "        text-align: right;\n",
       "    }\n",
       "</style>\n",
       "<table border=\"1\" class=\"dataframe\">\n",
       "  <thead>\n",
       "    <tr style=\"text-align: right;\">\n",
       "      <th></th>\n",
       "      <th>age</th>\n",
       "      <th>sex</th>\n",
       "      <th>cp</th>\n",
       "      <th>trestbps</th>\n",
       "      <th>chol</th>\n",
       "      <th>fbs</th>\n",
       "      <th>restecg</th>\n",
       "      <th>thalach</th>\n",
       "      <th>exang</th>\n",
       "      <th>oldpeak</th>\n",
       "      <th>slope</th>\n",
       "      <th>ca</th>\n",
       "      <th>thal</th>\n",
       "      <th>target</th>\n",
       "    </tr>\n",
       "  </thead>\n",
       "  <tbody>\n",
       "    <tr>\n",
       "      <th>0</th>\n",
       "      <td>63</td>\n",
       "      <td>1</td>\n",
       "      <td>3</td>\n",
       "      <td>145</td>\n",
       "      <td>233</td>\n",
       "      <td>1</td>\n",
       "      <td>0</td>\n",
       "      <td>150</td>\n",
       "      <td>0</td>\n",
       "      <td>2.3</td>\n",
       "      <td>0</td>\n",
       "      <td>0</td>\n",
       "      <td>1</td>\n",
       "      <td>1</td>\n",
       "    </tr>\n",
       "    <tr>\n",
       "      <th>1</th>\n",
       "      <td>37</td>\n",
       "      <td>1</td>\n",
       "      <td>2</td>\n",
       "      <td>130</td>\n",
       "      <td>250</td>\n",
       "      <td>0</td>\n",
       "      <td>1</td>\n",
       "      <td>187</td>\n",
       "      <td>0</td>\n",
       "      <td>3.5</td>\n",
       "      <td>0</td>\n",
       "      <td>0</td>\n",
       "      <td>2</td>\n",
       "      <td>1</td>\n",
       "    </tr>\n",
       "    <tr>\n",
       "      <th>2</th>\n",
       "      <td>41</td>\n",
       "      <td>0</td>\n",
       "      <td>1</td>\n",
       "      <td>130</td>\n",
       "      <td>204</td>\n",
       "      <td>0</td>\n",
       "      <td>0</td>\n",
       "      <td>172</td>\n",
       "      <td>0</td>\n",
       "      <td>1.4</td>\n",
       "      <td>2</td>\n",
       "      <td>0</td>\n",
       "      <td>2</td>\n",
       "      <td>1</td>\n",
       "    </tr>\n",
       "    <tr>\n",
       "      <th>3</th>\n",
       "      <td>56</td>\n",
       "      <td>1</td>\n",
       "      <td>1</td>\n",
       "      <td>120</td>\n",
       "      <td>236</td>\n",
       "      <td>0</td>\n",
       "      <td>1</td>\n",
       "      <td>178</td>\n",
       "      <td>0</td>\n",
       "      <td>0.8</td>\n",
       "      <td>2</td>\n",
       "      <td>0</td>\n",
       "      <td>2</td>\n",
       "      <td>1</td>\n",
       "    </tr>\n",
       "    <tr>\n",
       "      <th>4</th>\n",
       "      <td>57</td>\n",
       "      <td>0</td>\n",
       "      <td>0</td>\n",
       "      <td>120</td>\n",
       "      <td>354</td>\n",
       "      <td>0</td>\n",
       "      <td>1</td>\n",
       "      <td>163</td>\n",
       "      <td>1</td>\n",
       "      <td>0.6</td>\n",
       "      <td>2</td>\n",
       "      <td>0</td>\n",
       "      <td>2</td>\n",
       "      <td>1</td>\n",
       "    </tr>\n",
       "  </tbody>\n",
       "</table>\n",
       "</div>"
      ],
      "text/plain": [
       "   age  sex  cp  trestbps  chol  fbs  restecg  thalach  exang  oldpeak  slope  \\\n",
       "0   63    1   3       145   233    1        0      150      0      2.3      0   \n",
       "1   37    1   2       130   250    0        1      187      0      3.5      0   \n",
       "2   41    0   1       130   204    0        0      172      0      1.4      2   \n",
       "3   56    1   1       120   236    0        1      178      0      0.8      2   \n",
       "4   57    0   0       120   354    0        1      163      1      0.6      2   \n",
       "\n",
       "   ca  thal  target  \n",
       "0   0     1       1  \n",
       "1   0     2       1  \n",
       "2   0     2       1  \n",
       "3   0     2       1  \n",
       "4   0     2       1  "
      ]
     },
     "execution_count": 4,
     "metadata": {},
     "output_type": "execute_result"
    }
   ],
   "source": [
    "df.head()"
   ]
  },
  {
   "cell_type": "code",
   "execution_count": 5,
   "id": "c1795b32",
   "metadata": {},
   "outputs": [
    {
     "name": "stdout",
     "output_type": "stream",
     "text": [
      "<class 'pandas.core.frame.DataFrame'>\n",
      "RangeIndex: 303 entries, 0 to 302\n",
      "Data columns (total 14 columns):\n",
      " #   Column    Non-Null Count  Dtype  \n",
      "---  ------    --------------  -----  \n",
      " 0   age       303 non-null    int64  \n",
      " 1   sex       303 non-null    int64  \n",
      " 2   cp        303 non-null    int64  \n",
      " 3   trestbps  303 non-null    int64  \n",
      " 4   chol      303 non-null    int64  \n",
      " 5   fbs       303 non-null    int64  \n",
      " 6   restecg   303 non-null    int64  \n",
      " 7   thalach   303 non-null    int64  \n",
      " 8   exang     303 non-null    int64  \n",
      " 9   oldpeak   303 non-null    float64\n",
      " 10  slope     303 non-null    int64  \n",
      " 11  ca        303 non-null    int64  \n",
      " 12  thal      303 non-null    int64  \n",
      " 13  target    303 non-null    int64  \n",
      "dtypes: float64(1), int64(13)\n",
      "memory usage: 33.3 KB\n"
     ]
    }
   ],
   "source": [
    "df.info()"
   ]
  },
  {
   "cell_type": "code",
   "execution_count": 6,
   "id": "f2100ba4",
   "metadata": {},
   "outputs": [
    {
     "data": {
      "text/plain": [
       "age         0\n",
       "sex         0\n",
       "cp          0\n",
       "trestbps    0\n",
       "chol        0\n",
       "fbs         0\n",
       "restecg     0\n",
       "thalach     0\n",
       "exang       0\n",
       "oldpeak     0\n",
       "slope       0\n",
       "ca          0\n",
       "thal        0\n",
       "target      0\n",
       "dtype: int64"
      ]
     },
     "execution_count": 6,
     "metadata": {},
     "output_type": "execute_result"
    }
   ],
   "source": [
    "df.isnull().sum()"
   ]
  },
  {
   "cell_type": "markdown",
   "id": "6290ec57",
   "metadata": {},
   "source": [
    "This dataset does not contain any missing values, hence we can proceed ahead for EDA"
   ]
  },
  {
   "cell_type": "code",
   "execution_count": 7,
   "id": "7e9f7b17",
   "metadata": {},
   "outputs": [
    {
     "data": {
      "text/html": [
       "<div>\n",
       "<style scoped>\n",
       "    .dataframe tbody tr th:only-of-type {\n",
       "        vertical-align: middle;\n",
       "    }\n",
       "\n",
       "    .dataframe tbody tr th {\n",
       "        vertical-align: top;\n",
       "    }\n",
       "\n",
       "    .dataframe thead th {\n",
       "        text-align: right;\n",
       "    }\n",
       "</style>\n",
       "<table border=\"1\" class=\"dataframe\">\n",
       "  <thead>\n",
       "    <tr style=\"text-align: right;\">\n",
       "      <th></th>\n",
       "      <th>count</th>\n",
       "      <th>mean</th>\n",
       "      <th>std</th>\n",
       "      <th>min</th>\n",
       "      <th>25%</th>\n",
       "      <th>50%</th>\n",
       "      <th>75%</th>\n",
       "      <th>max</th>\n",
       "    </tr>\n",
       "  </thead>\n",
       "  <tbody>\n",
       "    <tr>\n",
       "      <th>age</th>\n",
       "      <td>303.0</td>\n",
       "      <td>54.366337</td>\n",
       "      <td>9.082101</td>\n",
       "      <td>29.0</td>\n",
       "      <td>47.5</td>\n",
       "      <td>55.0</td>\n",
       "      <td>61.0</td>\n",
       "      <td>77.0</td>\n",
       "    </tr>\n",
       "    <tr>\n",
       "      <th>sex</th>\n",
       "      <td>303.0</td>\n",
       "      <td>0.683168</td>\n",
       "      <td>0.466011</td>\n",
       "      <td>0.0</td>\n",
       "      <td>0.0</td>\n",
       "      <td>1.0</td>\n",
       "      <td>1.0</td>\n",
       "      <td>1.0</td>\n",
       "    </tr>\n",
       "    <tr>\n",
       "      <th>cp</th>\n",
       "      <td>303.0</td>\n",
       "      <td>0.966997</td>\n",
       "      <td>1.032052</td>\n",
       "      <td>0.0</td>\n",
       "      <td>0.0</td>\n",
       "      <td>1.0</td>\n",
       "      <td>2.0</td>\n",
       "      <td>3.0</td>\n",
       "    </tr>\n",
       "    <tr>\n",
       "      <th>trestbps</th>\n",
       "      <td>303.0</td>\n",
       "      <td>131.623762</td>\n",
       "      <td>17.538143</td>\n",
       "      <td>94.0</td>\n",
       "      <td>120.0</td>\n",
       "      <td>130.0</td>\n",
       "      <td>140.0</td>\n",
       "      <td>200.0</td>\n",
       "    </tr>\n",
       "    <tr>\n",
       "      <th>chol</th>\n",
       "      <td>303.0</td>\n",
       "      <td>246.264026</td>\n",
       "      <td>51.830751</td>\n",
       "      <td>126.0</td>\n",
       "      <td>211.0</td>\n",
       "      <td>240.0</td>\n",
       "      <td>274.5</td>\n",
       "      <td>564.0</td>\n",
       "    </tr>\n",
       "    <tr>\n",
       "      <th>fbs</th>\n",
       "      <td>303.0</td>\n",
       "      <td>0.148515</td>\n",
       "      <td>0.356198</td>\n",
       "      <td>0.0</td>\n",
       "      <td>0.0</td>\n",
       "      <td>0.0</td>\n",
       "      <td>0.0</td>\n",
       "      <td>1.0</td>\n",
       "    </tr>\n",
       "    <tr>\n",
       "      <th>restecg</th>\n",
       "      <td>303.0</td>\n",
       "      <td>0.528053</td>\n",
       "      <td>0.525860</td>\n",
       "      <td>0.0</td>\n",
       "      <td>0.0</td>\n",
       "      <td>1.0</td>\n",
       "      <td>1.0</td>\n",
       "      <td>2.0</td>\n",
       "    </tr>\n",
       "    <tr>\n",
       "      <th>thalach</th>\n",
       "      <td>303.0</td>\n",
       "      <td>149.646865</td>\n",
       "      <td>22.905161</td>\n",
       "      <td>71.0</td>\n",
       "      <td>133.5</td>\n",
       "      <td>153.0</td>\n",
       "      <td>166.0</td>\n",
       "      <td>202.0</td>\n",
       "    </tr>\n",
       "    <tr>\n",
       "      <th>exang</th>\n",
       "      <td>303.0</td>\n",
       "      <td>0.326733</td>\n",
       "      <td>0.469794</td>\n",
       "      <td>0.0</td>\n",
       "      <td>0.0</td>\n",
       "      <td>0.0</td>\n",
       "      <td>1.0</td>\n",
       "      <td>1.0</td>\n",
       "    </tr>\n",
       "    <tr>\n",
       "      <th>oldpeak</th>\n",
       "      <td>303.0</td>\n",
       "      <td>1.039604</td>\n",
       "      <td>1.161075</td>\n",
       "      <td>0.0</td>\n",
       "      <td>0.0</td>\n",
       "      <td>0.8</td>\n",
       "      <td>1.6</td>\n",
       "      <td>6.2</td>\n",
       "    </tr>\n",
       "    <tr>\n",
       "      <th>slope</th>\n",
       "      <td>303.0</td>\n",
       "      <td>1.399340</td>\n",
       "      <td>0.616226</td>\n",
       "      <td>0.0</td>\n",
       "      <td>1.0</td>\n",
       "      <td>1.0</td>\n",
       "      <td>2.0</td>\n",
       "      <td>2.0</td>\n",
       "    </tr>\n",
       "    <tr>\n",
       "      <th>ca</th>\n",
       "      <td>303.0</td>\n",
       "      <td>0.729373</td>\n",
       "      <td>1.022606</td>\n",
       "      <td>0.0</td>\n",
       "      <td>0.0</td>\n",
       "      <td>0.0</td>\n",
       "      <td>1.0</td>\n",
       "      <td>4.0</td>\n",
       "    </tr>\n",
       "    <tr>\n",
       "      <th>thal</th>\n",
       "      <td>303.0</td>\n",
       "      <td>2.313531</td>\n",
       "      <td>0.612277</td>\n",
       "      <td>0.0</td>\n",
       "      <td>2.0</td>\n",
       "      <td>2.0</td>\n",
       "      <td>3.0</td>\n",
       "      <td>3.0</td>\n",
       "    </tr>\n",
       "    <tr>\n",
       "      <th>target</th>\n",
       "      <td>303.0</td>\n",
       "      <td>0.544554</td>\n",
       "      <td>0.498835</td>\n",
       "      <td>0.0</td>\n",
       "      <td>0.0</td>\n",
       "      <td>1.0</td>\n",
       "      <td>1.0</td>\n",
       "      <td>1.0</td>\n",
       "    </tr>\n",
       "  </tbody>\n",
       "</table>\n",
       "</div>"
      ],
      "text/plain": [
       "          count        mean        std    min    25%    50%    75%    max\n",
       "age       303.0   54.366337   9.082101   29.0   47.5   55.0   61.0   77.0\n",
       "sex       303.0    0.683168   0.466011    0.0    0.0    1.0    1.0    1.0\n",
       "cp        303.0    0.966997   1.032052    0.0    0.0    1.0    2.0    3.0\n",
       "trestbps  303.0  131.623762  17.538143   94.0  120.0  130.0  140.0  200.0\n",
       "chol      303.0  246.264026  51.830751  126.0  211.0  240.0  274.5  564.0\n",
       "fbs       303.0    0.148515   0.356198    0.0    0.0    0.0    0.0    1.0\n",
       "restecg   303.0    0.528053   0.525860    0.0    0.0    1.0    1.0    2.0\n",
       "thalach   303.0  149.646865  22.905161   71.0  133.5  153.0  166.0  202.0\n",
       "exang     303.0    0.326733   0.469794    0.0    0.0    0.0    1.0    1.0\n",
       "oldpeak   303.0    1.039604   1.161075    0.0    0.0    0.8    1.6    6.2\n",
       "slope     303.0    1.399340   0.616226    0.0    1.0    1.0    2.0    2.0\n",
       "ca        303.0    0.729373   1.022606    0.0    0.0    0.0    1.0    4.0\n",
       "thal      303.0    2.313531   0.612277    0.0    2.0    2.0    3.0    3.0\n",
       "target    303.0    0.544554   0.498835    0.0    0.0    1.0    1.0    1.0"
      ]
     },
     "execution_count": 7,
     "metadata": {},
     "output_type": "execute_result"
    }
   ],
   "source": [
    "df.describe().transpose()"
   ]
  },
  {
   "cell_type": "code",
   "execution_count": 8,
   "id": "0e32c801",
   "metadata": {},
   "outputs": [
    {
     "data": {
      "text/plain": [
       "1    0.544554\n",
       "0    0.455446\n",
       "Name: target, dtype: float64"
      ]
     },
     "execution_count": 8,
     "metadata": {},
     "output_type": "execute_result"
    }
   ],
   "source": [
    "df['target'].value_counts(normalize = True)"
   ]
  },
  {
   "cell_type": "markdown",
   "id": "8db5d9de",
   "metadata": {},
   "source": [
    "This shows that data is unbiased, hence we can train our model on this data.\n",
    "\n",
    "### Let's do some more Exploratory data analysis(EDA) to understand this dataset."
   ]
  },
  {
   "cell_type": "code",
   "execution_count": 9,
   "id": "386dbf78",
   "metadata": {},
   "outputs": [
    {
     "data": {
      "image/png": "[encoded data removed]",
      "text/plain": [
       "<Figure size 432x288 with 1 Axes>"
      ]
     },
     "metadata": {
      "needs_background": "light"
     },
     "output_type": "display_data"
    }
   ],
   "source": [
    "df['target'].value_counts().plot(color = ['Red','Green'],kind='bar')\n",
    "\n",
    "plt.xticks(rotation=(0));"
   ]
  },
  {
   "cell_type": "markdown",
   "id": "c1cf51a4",
   "metadata": {},
   "source": [
    "Let us try to visualize Target with reference to sex and try to deduce some rough estimation on it.\n",
    "\n",
    "## **Target variable vs Sex**"
   ]
  },
  {
   "cell_type": "code",
   "execution_count": 10,
   "id": "fb49290c",
   "metadata": {},
   "outputs": [
    {
     "data": {
      "text/plain": [
       "1    207\n",
       "0     96\n",
       "Name: sex, dtype: int64"
      ]
     },
     "execution_count": 10,
     "metadata": {},
     "output_type": "execute_result"
    }
   ],
   "source": [
    "\n",
    "df['sex'].value_counts()"
   ]
  },
  {
   "cell_type": "code",
   "execution_count": 11,
   "id": "b3d08db8",
   "metadata": {},
   "outputs": [
    {
     "data": {
      "text/html": [
       "<div>\n",
       "<style scoped>\n",
       "    .dataframe tbody tr th:only-of-type {\n",
       "        vertical-align: middle;\n",
       "    }\n",
       "\n",
       "    .dataframe tbody tr th {\n",
       "        vertical-align: top;\n",
       "    }\n",
       "\n",
       "    .dataframe thead th {\n",
       "        text-align: right;\n",
       "    }\n",
       "</style>\n",
       "<table border=\"1\" class=\"dataframe\">\n",
       "  <thead>\n",
       "    <tr style=\"text-align: right;\">\n",
       "      <th>sex</th>\n",
       "      <th>0</th>\n",
       "      <th>1</th>\n",
       "    </tr>\n",
       "    <tr>\n",
       "      <th>target</th>\n",
       "      <th></th>\n",
       "      <th></th>\n",
       "    </tr>\n",
       "  </thead>\n",
       "  <tbody>\n",
       "    <tr>\n",
       "      <th>0</th>\n",
       "      <td>24</td>\n",
       "      <td>114</td>\n",
       "    </tr>\n",
       "    <tr>\n",
       "      <th>1</th>\n",
       "      <td>72</td>\n",
       "      <td>93</td>\n",
       "    </tr>\n",
       "  </tbody>\n",
       "</table>\n",
       "</div>"
      ],
      "text/plain": [
       "sex      0    1\n",
       "target         \n",
       "0       24  114\n",
       "1       72   93"
      ]
     },
     "execution_count": 11,
     "metadata": {},
     "output_type": "execute_result"
    }
   ],
   "source": [
    "pd.crosstab(df['target'],df['sex'])"
   ]
  },
  {
   "cell_type": "code",
   "execution_count": 12,
   "id": "73e64f59",
   "metadata": {},
   "outputs": [
    {
     "data": {
      "image/png": "[encoded data removed]",
      "text/plain": [
       "<Figure size 720x432 with 1 Axes>"
      ]
     },
     "metadata": {
      "needs_background": "light"
     },
     "output_type": "display_data"
    }
   ],
   "source": [
    "pd.crosstab(df['target'],df['sex']).plot(kind='bar',figsize =(10,6))\n",
    "\n",
    "plt.title('Heart Disease with reference to Sex')\n",
    "plt.xlabel('0: No Heart Disease, 1 :Heart Disease')\n",
    "plt.ylabel('Values')\n",
    "plt.xticks(rotation=(0))\n",
    "plt.legend([\"Female\",\"Male\"]);"
   ]
  },
  {
   "cell_type": "markdown",
   "id": "5ff84d8a",
   "metadata": {},
   "source": [
    "This dataset shows that heart disease and gender has a strong correlation.\n",
    "\n",
    "We can see that Females have more frequency of having a heart disease, whereas in males it is lesser when compared to females.\n",
    "\n",
    "\n",
    "## **Target variable vs Thalach (Max Heart Rate)**"
   ]
  },
  {
   "cell_type": "code",
   "execution_count": 13,
   "id": "e4ff282c",
   "metadata": {},
   "outputs": [
    {
     "data": {
      "image/png": "[encoded data removed]",
      "text/plain": [
       "<Figure size 720x432 with 1 Axes>"
      ]
     },
     "metadata": {
      "needs_background": "light"
     },
     "output_type": "display_data"
    }
   ],
   "source": [
    "plt.figure(figsize=(10,6))\n",
    "\n",
    "plt.scatter(df['age'],df['thalach']);"
   ]
  },
  {
   "cell_type": "code",
   "execution_count": 14,
   "id": "d0f7c17e",
   "metadata": {},
   "outputs": [
    {
     "data": {
      "image/png": "[encoded data removed]",
      "text/plain": [
       "<Figure size 720x432 with 1 Axes>"
      ]
     },
     "metadata": {
      "needs_background": "light"
     },
     "output_type": "display_data"
    }
   ],
   "source": [
    "plt.figure(figsize=(10,6))\n",
    "\n",
    "plt.scatter(df['age'][df['target']==1],df['thalach'][df['target']==1],c ='red',alpha=0.7);\n",
    "\n",
    "plt.scatter(df['age'][df['target']==0],df['thalach'][df['target']==0],c ='green',alpha=0.7);\n",
    "\n",
    "#lets add attributes\n",
    "\n",
    "plt.title(\"Heart Disease with respect to Age and Max heart Rate\")\n",
    "plt.xlabel('Age')\n",
    "plt.ylabel('Thalach (Max Heart Rate)')\n",
    "plt.legend(['Disease','No Disease'])\n",
    "plt.show()\n"
   ]
  },
  {
   "cell_type": "markdown",
   "id": "2172ffff",
   "metadata": {},
   "source": [
    "Scatter plot shows a certain correlation as the person with higher heart rate has more tendency to develop a heart disease\n",
    "\n",
    "\n",
    "## **Target variable vs Cholesterol**"
   ]
  },
  {
   "cell_type": "code",
   "execution_count": 15,
   "id": "bddad3b3",
   "metadata": {},
   "outputs": [
    {
     "data": {
      "image/png": "[encoded data removed]",
      "text/plain": [
       "<Figure size 720x432 with 1 Axes>"
      ]
     },
     "metadata": {
      "needs_background": "light"
     },
     "output_type": "display_data"
    }
   ],
   "source": [
    "plt.figure(figsize=(10,6))\n",
    "\n",
    "plt.scatter(df['age'][df['target']==1],df['chol'][df['target']==1],c ='red',alpha=0.7);\n",
    "\n",
    "plt.scatter(df['age'][df['target']==0],df['chol'][df['target']==0],c ='green',alpha=0.7);\n",
    "\n",
    "#lets add attributes\n",
    "\n",
    "plt.title(\"Heart Disease with respect to Age and Cholesterol\")\n",
    "plt.xlabel('Age')\n",
    "plt.ylabel('Chol')\n",
    "plt.legend(['Disease','No Disease'])\n",
    "plt.show()"
   ]
  },
  {
   "cell_type": "markdown",
   "id": "69a79197",
   "metadata": {},
   "source": [
    "This plot shows that the younger people with more cholesterol values above 200 are more prone to Heart disease\n",
    "\n",
    "The above scatter plots show that the age group values are more concentrated around 60, let's plot the distribution to confirm this."
   ]
  },
  {
   "cell_type": "code",
   "execution_count": 16,
   "id": "f46b1628",
   "metadata": {},
   "outputs": [
    {
     "data": {
      "text/plain": [
       "<AxesSubplot:xlabel='age', ylabel='Count'>"
      ]
     },
     "execution_count": 16,
     "metadata": {},
     "output_type": "execute_result"
    },
    {
     "data": {
      "image/png": "[encoded data removed]",
      "text/plain": [
       "<Figure size 432x288 with 1 Axes>"
      ]
     },
     "metadata": {
      "needs_background": "light"
     },
     "output_type": "display_data"
    }
   ],
   "source": [
    "sns.histplot(data=df,x='age',kde=True)"
   ]
  },
  {
   "cell_type": "markdown",
   "id": "f691d47e",
   "metadata": {},
   "source": [
    "The **age** distribution looks like a normal distribution but it is very slightly left-skewed"
   ]
  },
  {
   "cell_type": "markdown",
   "id": "8ddd3d3d",
   "metadata": {},
   "source": [
    "## **Target variable vs Chest pain**"
   ]
  },
  {
   "cell_type": "code",
   "execution_count": 17,
   "id": "5cadd68c",
   "metadata": {},
   "outputs": [
    {
     "data": {
      "text/plain": [
       "<AxesSubplot:xlabel='cp', ylabel='count'>"
      ]
     },
     "execution_count": 17,
     "metadata": {},
     "output_type": "execute_result"
    },
    {
     "data": {
      "image/png": "[encoded data removed]",
      "text/plain": [
       "<Figure size 432x288 with 1 Axes>"
      ]
     },
     "metadata": {
      "needs_background": "light"
     },
     "output_type": "display_data"
    }
   ],
   "source": [
    "sns.countplot(data=df,x ='cp')"
   ]
  },
  {
   "cell_type": "code",
   "execution_count": 18,
   "id": "ccffe086",
   "metadata": {},
   "outputs": [
    {
     "data": {
      "text/html": [
       "<div>\n",
       "<style scoped>\n",
       "    .dataframe tbody tr th:only-of-type {\n",
       "        vertical-align: middle;\n",
       "    }\n",
       "\n",
       "    .dataframe tbody tr th {\n",
       "        vertical-align: top;\n",
       "    }\n",
       "\n",
       "    .dataframe thead th {\n",
       "        text-align: right;\n",
       "    }\n",
       "</style>\n",
       "<table border=\"1\" class=\"dataframe\">\n",
       "  <thead>\n",
       "    <tr style=\"text-align: right;\">\n",
       "      <th>cp</th>\n",
       "      <th>0</th>\n",
       "      <th>1</th>\n",
       "      <th>2</th>\n",
       "      <th>3</th>\n",
       "    </tr>\n",
       "    <tr>\n",
       "      <th>target</th>\n",
       "      <th></th>\n",
       "      <th></th>\n",
       "      <th></th>\n",
       "      <th></th>\n",
       "    </tr>\n",
       "  </thead>\n",
       "  <tbody>\n",
       "    <tr>\n",
       "      <th>0</th>\n",
       "      <td>104</td>\n",
       "      <td>9</td>\n",
       "      <td>18</td>\n",
       "      <td>7</td>\n",
       "    </tr>\n",
       "    <tr>\n",
       "      <th>1</th>\n",
       "      <td>39</td>\n",
       "      <td>41</td>\n",
       "      <td>69</td>\n",
       "      <td>16</td>\n",
       "    </tr>\n",
       "  </tbody>\n",
       "</table>\n",
       "</div>"
      ],
      "text/plain": [
       "cp        0   1   2   3\n",
       "target                 \n",
       "0       104   9  18   7\n",
       "1        39  41  69  16"
      ]
     },
     "execution_count": 18,
     "metadata": {},
     "output_type": "execute_result"
    }
   ],
   "source": [
    "pd.crosstab(df['target'],df['cp'])"
   ]
  },
  {
   "cell_type": "code",
   "execution_count": 19,
   "id": "35fbcae9",
   "metadata": {},
   "outputs": [
    {
     "data": {
      "image/png": "[encoded data removed]",
      "text/plain": [
       "<Figure size 720x432 with 1 Axes>"
      ]
     },
     "metadata": {
      "needs_background": "light"
     },
     "output_type": "display_data"
    }
   ],
   "source": [
    "pd.crosstab(df['cp'],df['target']).plot(kind='bar',\n",
    "                                       figsize=(10,6),\n",
    "                                       color=('Green','Red'))\n",
    "\n",
    "\n",
    "plt.title('Heart Disease vs Chest pain')\n",
    "plt.xlabel('Chest pain type')\n",
    "plt.ylabel('Chest pain')\n",
    "plt.xticks(rotation=(0))\n",
    "plt.legend(['No Disease','Disease'])\n",
    "plt.show()"
   ]
  },
  {
   "cell_type": "markdown",
   "id": "5c8428fa",
   "metadata": {},
   "source": [
    "The above plot shows us a valuable information but again at the same time it creates a confusion.\n",
    "\n",
    "As per the column dictionary, chest pain type 1 and 2 are not related to heart but still the plot shows that this pain contributes to the majority of heart disease. We need to study more on this or discuss with a Subject matter expert to understand this.\n"
   ]
  },
  {
   "cell_type": "markdown",
   "id": "f48aa056",
   "metadata": {},
   "source": [
    "## CORRELATION MATRIX"
   ]
  },
  {
   "cell_type": "code",
   "execution_count": 20,
   "id": "fe90c451",
   "metadata": {},
   "outputs": [
    {
     "data": {
      "image/png": "[encoded data removed]",
      "text/plain": [
       "<Figure size 1152x720 with 2 Axes>"
      ]
     },
     "metadata": {
      "needs_background": "light"
     },
     "output_type": "display_data"
    }
   ],
   "source": [
    "plt.figure(figsize=(16,10))\n",
    "sns.heatmap(df.corr(),annot=True,cmap='viridis');"
   ]
  },
  {
   "cell_type": "markdown",
   "id": "d34da5a8",
   "metadata": {},
   "source": [
    "This matrix shows the correlation of the independent variables with the target variables.\n",
    "\n",
    "* But one point to note is the correlation of independent variables within themselves.\n",
    "* Generally, a value above **+-0.75** is considered to be highly correlated and it can lead to multicollinearity issue.\n",
    "* In our case, max value within independent variables looks around **-0.58**\n",
    "\n",
    "Let us calculate the Variance Inflation factor (VIF) to check for correlation among independent variables"
   ]
  },
  {
   "cell_type": "code",
   "execution_count": 21,
   "id": "c295f13f",
   "metadata": {},
   "outputs": [],
   "source": [
    "X = df.drop(['target'],axis=1)"
   ]
  },
  {
   "cell_type": "code",
   "execution_count": 22,
   "id": "0202babf",
   "metadata": {},
   "outputs": [],
   "source": [
    "from statsmodels.stats.outliers_influence import variance_inflation_factor"
   ]
  },
  {
   "cell_type": "code",
   "execution_count": 23,
   "id": "7c5d4f6f",
   "metadata": {},
   "outputs": [],
   "source": [
    "vif_data = pd.DataFrame()\n",
    "vif_data[\"feature\"] = X.columns\n",
    "vif_data[\"VIF\"] = [variance_inflation_factor(X.values, i)\n",
    "                          for i in range(len(X.columns))]"
   ]
  },
  {
   "cell_type": "code",
   "execution_count": 24,
   "id": "194b524b",
   "metadata": {},
   "outputs": [
    {
     "data": {
      "text/html": [
       "<div>\n",
       "<style scoped>\n",
       "    .dataframe tbody tr th:only-of-type {\n",
       "        vertical-align: middle;\n",
       "    }\n",
       "\n",
       "    .dataframe tbody tr th {\n",
       "        vertical-align: top;\n",
       "    }\n",
       "\n",
       "    .dataframe thead th {\n",
       "        text-align: right;\n",
       "    }\n",
       "</style>\n",
       "<table border=\"1\" class=\"dataframe\">\n",
       "  <thead>\n",
       "    <tr style=\"text-align: right;\">\n",
       "      <th></th>\n",
       "      <th>feature</th>\n",
       "      <th>VIF</th>\n",
       "    </tr>\n",
       "  </thead>\n",
       "  <tbody>\n",
       "    <tr>\n",
       "      <th>0</th>\n",
       "      <td>age</td>\n",
       "      <td>38.998305</td>\n",
       "    </tr>\n",
       "    <tr>\n",
       "      <th>1</th>\n",
       "      <td>sex</td>\n",
       "      <td>3.523211</td>\n",
       "    </tr>\n",
       "    <tr>\n",
       "      <th>2</th>\n",
       "      <td>cp</td>\n",
       "      <td>2.414403</td>\n",
       "    </tr>\n",
       "    <tr>\n",
       "      <th>3</th>\n",
       "      <td>trestbps</td>\n",
       "      <td>58.557335</td>\n",
       "    </tr>\n",
       "    <tr>\n",
       "      <th>4</th>\n",
       "      <td>chol</td>\n",
       "      <td>26.267365</td>\n",
       "    </tr>\n",
       "    <tr>\n",
       "      <th>5</th>\n",
       "      <td>fbs</td>\n",
       "      <td>1.268205</td>\n",
       "    </tr>\n",
       "    <tr>\n",
       "      <th>6</th>\n",
       "      <td>restecg</td>\n",
       "      <td>2.058206</td>\n",
       "    </tr>\n",
       "    <tr>\n",
       "      <th>7</th>\n",
       "      <td>thalach</td>\n",
       "      <td>42.742178</td>\n",
       "    </tr>\n",
       "    <tr>\n",
       "      <th>8</th>\n",
       "      <td>exang</td>\n",
       "      <td>2.022527</td>\n",
       "    </tr>\n",
       "    <tr>\n",
       "      <th>9</th>\n",
       "      <td>oldpeak</td>\n",
       "      <td>3.062890</td>\n",
       "    </tr>\n",
       "    <tr>\n",
       "      <th>10</th>\n",
       "      <td>slope</td>\n",
       "      <td>10.072734</td>\n",
       "    </tr>\n",
       "    <tr>\n",
       "      <th>11</th>\n",
       "      <td>ca</td>\n",
       "      <td>1.808925</td>\n",
       "    </tr>\n",
       "    <tr>\n",
       "      <th>12</th>\n",
       "      <td>thal</td>\n",
       "      <td>17.165303</td>\n",
       "    </tr>\n",
       "  </tbody>\n",
       "</table>\n",
       "</div>"
      ],
      "text/plain": [
       "     feature        VIF\n",
       "0        age  38.998305\n",
       "1        sex   3.523211\n",
       "2         cp   2.414403\n",
       "3   trestbps  58.557335\n",
       "4       chol  26.267365\n",
       "5        fbs   1.268205\n",
       "6    restecg   2.058206\n",
       "7    thalach  42.742178\n",
       "8      exang   2.022527\n",
       "9    oldpeak   3.062890\n",
       "10     slope  10.072734\n",
       "11        ca   1.808925\n",
       "12      thal  17.165303"
      ]
     },
     "execution_count": 24,
     "metadata": {},
     "output_type": "execute_result"
    }
   ],
   "source": [
    "vif_data"
   ]
  },
  {
   "cell_type": "markdown",
   "id": "7f083abc",
   "metadata": {},
   "source": [
    "* VIF values above 5 are considered to be highly correlated.\n",
    "* In our case, we need more information from the Subject Matter Expert to reduce this VIF values.\n",
    "\n",
    "But this more information is not available and CORRELATION Matrix values are below 0.75, we can move ahead to model building.\n"
   ]
  },
  {
   "cell_type": "markdown",
   "id": "fa93b935",
   "metadata": {},
   "source": [
    "## MODEL BUILDING"
   ]
  },
  {
   "cell_type": "code",
   "execution_count": 25,
   "id": "1b709629",
   "metadata": {},
   "outputs": [
    {
     "data": {
      "text/html": [
       "<div>\n",
       "<style scoped>\n",
       "    .dataframe tbody tr th:only-of-type {\n",
       "        vertical-align: middle;\n",
       "    }\n",
       "\n",
       "    .dataframe tbody tr th {\n",
       "        vertical-align: top;\n",
       "    }\n",
       "\n",
       "    .dataframe thead th {\n",
       "        text-align: right;\n",
       "    }\n",
       "</style>\n",
       "<table border=\"1\" class=\"dataframe\">\n",
       "  <thead>\n",
       "    <tr style=\"text-align: right;\">\n",
       "      <th></th>\n",
       "      <th>age</th>\n",
       "      <th>sex</th>\n",
       "      <th>cp</th>\n",
       "      <th>trestbps</th>\n",
       "      <th>chol</th>\n",
       "      <th>fbs</th>\n",
       "      <th>restecg</th>\n",
       "      <th>thalach</th>\n",
       "      <th>exang</th>\n",
       "      <th>oldpeak</th>\n",
       "      <th>slope</th>\n",
       "      <th>ca</th>\n",
       "      <th>thal</th>\n",
       "      <th>target</th>\n",
       "    </tr>\n",
       "  </thead>\n",
       "  <tbody>\n",
       "    <tr>\n",
       "      <th>0</th>\n",
       "      <td>63</td>\n",
       "      <td>1</td>\n",
       "      <td>3</td>\n",
       "      <td>145</td>\n",
       "      <td>233</td>\n",
       "      <td>1</td>\n",
       "      <td>0</td>\n",
       "      <td>150</td>\n",
       "      <td>0</td>\n",
       "      <td>2.3</td>\n",
       "      <td>0</td>\n",
       "      <td>0</td>\n",
       "      <td>1</td>\n",
       "      <td>1</td>\n",
       "    </tr>\n",
       "    <tr>\n",
       "      <th>1</th>\n",
       "      <td>37</td>\n",
       "      <td>1</td>\n",
       "      <td>2</td>\n",
       "      <td>130</td>\n",
       "      <td>250</td>\n",
       "      <td>0</td>\n",
       "      <td>1</td>\n",
       "      <td>187</td>\n",
       "      <td>0</td>\n",
       "      <td>3.5</td>\n",
       "      <td>0</td>\n",
       "      <td>0</td>\n",
       "      <td>2</td>\n",
       "      <td>1</td>\n",
       "    </tr>\n",
       "    <tr>\n",
       "      <th>2</th>\n",
       "      <td>41</td>\n",
       "      <td>0</td>\n",
       "      <td>1</td>\n",
       "      <td>130</td>\n",
       "      <td>204</td>\n",
       "      <td>0</td>\n",
       "      <td>0</td>\n",
       "      <td>172</td>\n",
       "      <td>0</td>\n",
       "      <td>1.4</td>\n",
       "      <td>2</td>\n",
       "      <td>0</td>\n",
       "      <td>2</td>\n",
       "      <td>1</td>\n",
       "    </tr>\n",
       "    <tr>\n",
       "      <th>3</th>\n",
       "      <td>56</td>\n",
       "      <td>1</td>\n",
       "      <td>1</td>\n",
       "      <td>120</td>\n",
       "      <td>236</td>\n",
       "      <td>0</td>\n",
       "      <td>1</td>\n",
       "      <td>178</td>\n",
       "      <td>0</td>\n",
       "      <td>0.8</td>\n",
       "      <td>2</td>\n",
       "      <td>0</td>\n",
       "      <td>2</td>\n",
       "      <td>1</td>\n",
       "    </tr>\n",
       "    <tr>\n",
       "      <th>4</th>\n",
       "      <td>57</td>\n",
       "      <td>0</td>\n",
       "      <td>0</td>\n",
       "      <td>120</td>\n",
       "      <td>354</td>\n",
       "      <td>0</td>\n",
       "      <td>1</td>\n",
       "      <td>163</td>\n",
       "      <td>1</td>\n",
       "      <td>0.6</td>\n",
       "      <td>2</td>\n",
       "      <td>0</td>\n",
       "      <td>2</td>\n",
       "      <td>1</td>\n",
       "    </tr>\n",
       "  </tbody>\n",
       "</table>\n",
       "</div>"
      ],
      "text/plain": [
       "   age  sex  cp  trestbps  chol  fbs  restecg  thalach  exang  oldpeak  slope  \\\n",
       "0   63    1   3       145   233    1        0      150      0      2.3      0   \n",
       "1   37    1   2       130   250    0        1      187      0      3.5      0   \n",
       "2   41    0   1       130   204    0        0      172      0      1.4      2   \n",
       "3   56    1   1       120   236    0        1      178      0      0.8      2   \n",
       "4   57    0   0       120   354    0        1      163      1      0.6      2   \n",
       "\n",
       "   ca  thal  target  \n",
       "0   0     1       1  \n",
       "1   0     2       1  \n",
       "2   0     2       1  \n",
       "3   0     2       1  \n",
       "4   0     2       1  "
      ]
     },
     "execution_count": 25,
     "metadata": {},
     "output_type": "execute_result"
    }
   ],
   "source": [
    "df.head()"
   ]
  },
  {
   "cell_type": "code",
   "execution_count": 26,
   "id": "b53a05a7",
   "metadata": {},
   "outputs": [],
   "source": [
    "categorical_columns = ['sex','cp','fbs','restecg','exang','slope','ca','thal']\n",
    "continuous_columns = ['age','trestbps','chol','thalach','oldpeak']"
   ]
  },
  {
   "cell_type": "code",
   "execution_count": 27,
   "id": "982654e2",
   "metadata": {},
   "outputs": [],
   "source": [
    "df_ml = df.copy()"
   ]
  },
  {
   "cell_type": "code",
   "execution_count": 28,
   "id": "8afbac75",
   "metadata": {},
   "outputs": [
    {
     "data": {
      "text/plain": [
       "Index(['age', 'sex', 'cp', 'trestbps', 'chol', 'fbs', 'restecg', 'thalach',\n",
       "       'exang', 'oldpeak', 'slope', 'ca', 'thal', 'target'],\n",
       "      dtype='object')"
      ]
     },
     "execution_count": 28,
     "metadata": {},
     "output_type": "execute_result"
    }
   ],
   "source": [
    "df_ml.columns"
   ]
  },
  {
   "cell_type": "code",
   "execution_count": 29,
   "id": "3be60bf1",
   "metadata": {},
   "outputs": [],
   "source": [
    "df_ml.rename(columns={'cp':'chest_pain','trestbps':'resting_blood_pressure','chol':'cholesterol','fbs':'fasting_blood_sugar',\n",
    "                     'thalach':'max_heart_rate','exang':'exercise_induced_angina','oldpeak':'ST_depression',\n",
    "                     'ca':'num_of_vessels','thal':'thalium_stress'},inplace=True)"
   ]
  },
  {
   "cell_type": "code",
   "execution_count": 30,
   "id": "c4d0d398",
   "metadata": {},
   "outputs": [],
   "source": [
    "pd.options.mode.chained_assignment = None"
   ]
  },
  {
   "cell_type": "code",
   "execution_count": 31,
   "id": "d8126e88",
   "metadata": {},
   "outputs": [],
   "source": [
    "df_ml['sex'][df_ml['sex'] == 0] = 'female'\n",
    "df_ml['sex'][df_ml['sex'] == 1] = 'male'\n",
    "\n",
    "df_ml['chest_pain'][df_ml['chest_pain'] == 0] = 'typical angina'\n",
    "df_ml['chest_pain'][df_ml['chest_pain'] == 1] = 'atypical angina'\n",
    "df_ml['chest_pain'][df_ml['chest_pain'] == 2] = 'non-anginal pain'\n",
    "df_ml['chest_pain'][df_ml['chest_pain'] == 3] = 'asymptomatic'\n",
    "\n",
    "df_ml['fasting_blood_sugar'][df_ml['fasting_blood_sugar'] == 0] = 'lower than 120mg/ml'\n",
    "df_ml['fasting_blood_sugar'][df_ml['fasting_blood_sugar'] == 1] = 'greater than 120mg/ml'\n",
    "\n",
    "df_ml['restecg'][df_ml['restecg'] == 0] = 'normal'\n",
    "df_ml['restecg'][df_ml['restecg'] == 1] = 'ST-T wave abnormality'\n",
    "df_ml['restecg'][df_ml['restecg'] == 2] = 'left ventricular hypertrophy'\n",
    "\n",
    "df_ml['exercise_induced_angina'][df_ml['exercise_induced_angina'] == 0] = 'no'\n",
    "df_ml['exercise_induced_angina'][df_ml['exercise_induced_angina'] == 1] = 'yes'\n",
    "\n",
    "df_ml['slope'][df_ml['slope'] == 1] = 'upsloping'\n",
    "df_ml['slope'][df_ml['slope'] == 2] = 'flat'\n",
    "df_ml['slope'][df_ml['slope'] == 3] = 'downsloping'\n",
    "\n",
    "df_ml['thalium_stress'][df_ml['thalium_stress'] == 1] = 'normal'\n",
    "df_ml['thalium_stress'][df_ml['thalium_stress'] == 2] = 'fixed defect'\n",
    "df_ml['thalium_stress'][df_ml['thalium_stress'] == 3] = 'reversable defect'"
   ]
  },
  {
   "cell_type": "code",
   "execution_count": 32,
   "id": "2219f7e0",
   "metadata": {},
   "outputs": [],
   "source": [
    "df_ml['chest_pain'] = df_ml['chest_pain'].astype(\"category\")\n",
    "df_ml['exercise_induced_angina'] = df_ml['exercise_induced_angina'].astype(\"category\")\n",
    "df_ml['fasting_blood_sugar']= df_ml['fasting_blood_sugar'].astype(\"category\")\n",
    "df_ml['restecg'] = df_ml['restecg'].astype(\"category\")\n",
    "df_ml['sex'] = df_ml['sex'].astype(\"category\")\n",
    "df_ml['slope'] = df_ml['slope'].astype(\"category\")\n",
    "df_ml['thalium_stress'] = df_ml['thalium_stress'].astype(\"category\")\n"
   ]
  },
  {
   "cell_type": "code",
   "execution_count": 33,
   "id": "6d1cec1e",
   "metadata": {},
   "outputs": [
    {
     "name": "stdout",
     "output_type": "stream",
     "text": [
      "<class 'pandas.core.frame.DataFrame'>\n",
      "RangeIndex: 303 entries, 0 to 302\n",
      "Data columns (total 14 columns):\n",
      " #   Column                   Non-Null Count  Dtype   \n",
      "---  ------                   --------------  -----   \n",
      " 0   age                      303 non-null    int64   \n",
      " 1   sex                      303 non-null    category\n",
      " 2   chest_pain               303 non-null    category\n",
      " 3   resting_blood_pressure   303 non-null    int64   \n",
      " 4   cholesterol              303 non-null    int64   \n",
      " 5   fasting_blood_sugar      303 non-null    category\n",
      " 6   restecg                  303 non-null    category\n",
      " 7   max_heart_rate           303 non-null    int64   \n",
      " 8   exercise_induced_angina  303 non-null    category\n",
      " 9   ST_depression            303 non-null    float64 \n",
      " 10  slope                    303 non-null    category\n",
      " 11  num_of_vessels           303 non-null    int64   \n",
      " 12  thalium_stress           303 non-null    category\n",
      " 13  target                   303 non-null    int64   \n",
      "dtypes: category(7), float64(1), int64(6)\n",
      "memory usage: 19.8 KB\n"
     ]
    }
   ],
   "source": [
    "df_ml.info()"
   ]
  },
  {
   "cell_type": "code",
   "execution_count": 34,
   "id": "babae277",
   "metadata": {},
   "outputs": [],
   "source": [
    "df_ml = pd.get_dummies(data=df_ml,drop_first=True)"
   ]
  },
  {
   "cell_type": "code",
   "execution_count": 35,
   "id": "c6b92737",
   "metadata": {},
   "outputs": [
    {
     "data": {
      "text/html": [
       "<div>\n",
       "<style scoped>\n",
       "    .dataframe tbody tr th:only-of-type {\n",
       "        vertical-align: middle;\n",
       "    }\n",
       "\n",
       "    .dataframe tbody tr th {\n",
       "        vertical-align: top;\n",
       "    }\n",
       "\n",
       "    .dataframe thead th {\n",
       "        text-align: right;\n",
       "    }\n",
       "</style>\n",
       "<table border=\"1\" class=\"dataframe\">\n",
       "  <thead>\n",
       "    <tr style=\"text-align: right;\">\n",
       "      <th></th>\n",
       "      <th>age</th>\n",
       "      <th>resting_blood_pressure</th>\n",
       "      <th>cholesterol</th>\n",
       "      <th>max_heart_rate</th>\n",
       "      <th>ST_depression</th>\n",
       "      <th>num_of_vessels</th>\n",
       "      <th>target</th>\n",
       "      <th>sex_male</th>\n",
       "      <th>chest_pain_atypical angina</th>\n",
       "      <th>chest_pain_non-anginal pain</th>\n",
       "      <th>chest_pain_typical angina</th>\n",
       "      <th>fasting_blood_sugar_lower than 120mg/ml</th>\n",
       "      <th>restecg_left ventricular hypertrophy</th>\n",
       "      <th>restecg_normal</th>\n",
       "      <th>exercise_induced_angina_yes</th>\n",
       "      <th>slope_flat</th>\n",
       "      <th>slope_upsloping</th>\n",
       "      <th>thalium_stress_fixed defect</th>\n",
       "      <th>thalium_stress_normal</th>\n",
       "      <th>thalium_stress_reversable defect</th>\n",
       "    </tr>\n",
       "  </thead>\n",
       "  <tbody>\n",
       "    <tr>\n",
       "      <th>0</th>\n",
       "      <td>63</td>\n",
       "      <td>145</td>\n",
       "      <td>233</td>\n",
       "      <td>150</td>\n",
       "      <td>2.3</td>\n",
       "      <td>0</td>\n",
       "      <td>1</td>\n",
       "      <td>1</td>\n",
       "      <td>0</td>\n",
       "      <td>0</td>\n",
       "      <td>0</td>\n",
       "      <td>0</td>\n",
       "      <td>0</td>\n",
       "      <td>1</td>\n",
       "      <td>0</td>\n",
       "      <td>0</td>\n",
       "      <td>0</td>\n",
       "      <td>0</td>\n",
       "      <td>1</td>\n",
       "      <td>0</td>\n",
       "    </tr>\n",
       "    <tr>\n",
       "      <th>1</th>\n",
       "      <td>37</td>\n",
       "      <td>130</td>\n",
       "      <td>250</td>\n",
       "      <td>187</td>\n",
       "      <td>3.5</td>\n",
       "      <td>0</td>\n",
       "      <td>1</td>\n",
       "      <td>1</td>\n",
       "      <td>0</td>\n",
       "      <td>1</td>\n",
       "      <td>0</td>\n",
       "      <td>1</td>\n",
       "      <td>0</td>\n",
       "      <td>0</td>\n",
       "      <td>0</td>\n",
       "      <td>0</td>\n",
       "      <td>0</td>\n",
       "      <td>1</td>\n",
       "      <td>0</td>\n",
       "      <td>0</td>\n",
       "    </tr>\n",
       "    <tr>\n",
       "      <th>2</th>\n",
       "      <td>41</td>\n",
       "      <td>130</td>\n",
       "      <td>204</td>\n",
       "      <td>172</td>\n",
       "      <td>1.4</td>\n",
       "      <td>0</td>\n",
       "      <td>1</td>\n",
       "      <td>0</td>\n",
       "      <td>1</td>\n",
       "      <td>0</td>\n",
       "      <td>0</td>\n",
       "      <td>1</td>\n",
       "      <td>0</td>\n",
       "      <td>1</td>\n",
       "      <td>0</td>\n",
       "      <td>1</td>\n",
       "      <td>0</td>\n",
       "      <td>1</td>\n",
       "      <td>0</td>\n",
       "      <td>0</td>\n",
       "    </tr>\n",
       "    <tr>\n",
       "      <th>3</th>\n",
       "      <td>56</td>\n",
       "      <td>120</td>\n",
       "      <td>236</td>\n",
       "      <td>178</td>\n",
       "      <td>0.8</td>\n",
       "      <td>0</td>\n",
       "      <td>1</td>\n",
       "      <td>1</td>\n",
       "      <td>1</td>\n",
       "      <td>0</td>\n",
       "      <td>0</td>\n",
       "      <td>1</td>\n",
       "      <td>0</td>\n",
       "      <td>0</td>\n",
       "      <td>0</td>\n",
       "      <td>1</td>\n",
       "      <td>0</td>\n",
       "      <td>1</td>\n",
       "      <td>0</td>\n",
       "      <td>0</td>\n",
       "    </tr>\n",
       "    <tr>\n",
       "      <th>4</th>\n",
       "      <td>57</td>\n",
       "      <td>120</td>\n",
       "      <td>354</td>\n",
       "      <td>163</td>\n",
       "      <td>0.6</td>\n",
       "      <td>0</td>\n",
       "      <td>1</td>\n",
       "      <td>0</td>\n",
       "      <td>0</td>\n",
       "      <td>0</td>\n",
       "      <td>1</td>\n",
       "      <td>1</td>\n",
       "      <td>0</td>\n",
       "      <td>0</td>\n",
       "      <td>1</td>\n",
       "      <td>1</td>\n",
       "      <td>0</td>\n",
       "      <td>1</td>\n",
       "      <td>0</td>\n",
       "      <td>0</td>\n",
       "    </tr>\n",
       "    <tr>\n",
       "      <th>...</th>\n",
       "      <td>...</td>\n",
       "      <td>...</td>\n",
       "      <td>...</td>\n",
       "      <td>...</td>\n",
       "      <td>...</td>\n",
       "      <td>...</td>\n",
       "      <td>...</td>\n",
       "      <td>...</td>\n",
       "      <td>...</td>\n",
       "      <td>...</td>\n",
       "      <td>...</td>\n",
       "      <td>...</td>\n",
       "      <td>...</td>\n",
       "      <td>...</td>\n",
       "      <td>...</td>\n",
       "      <td>...</td>\n",
       "      <td>...</td>\n",
       "      <td>...</td>\n",
       "      <td>...</td>\n",
       "      <td>...</td>\n",
       "    </tr>\n",
       "    <tr>\n",
       "      <th>298</th>\n",
       "      <td>57</td>\n",
       "      <td>140</td>\n",
       "      <td>241</td>\n",
       "      <td>123</td>\n",
       "      <td>0.2</td>\n",
       "      <td>0</td>\n",
       "      <td>0</td>\n",
       "      <td>0</td>\n",
       "      <td>0</td>\n",
       "      <td>0</td>\n",
       "      <td>1</td>\n",
       "      <td>1</td>\n",
       "      <td>0</td>\n",
       "      <td>0</td>\n",
       "      <td>1</td>\n",
       "      <td>0</td>\n",
       "      <td>1</td>\n",
       "      <td>0</td>\n",
       "      <td>0</td>\n",
       "      <td>1</td>\n",
       "    </tr>\n",
       "    <tr>\n",
       "      <th>299</th>\n",
       "      <td>45</td>\n",
       "      <td>110</td>\n",
       "      <td>264</td>\n",
       "      <td>132</td>\n",
       "      <td>1.2</td>\n",
       "      <td>0</td>\n",
       "      <td>0</td>\n",
       "      <td>1</td>\n",
       "      <td>0</td>\n",
       "      <td>0</td>\n",
       "      <td>0</td>\n",
       "      <td>1</td>\n",
       "      <td>0</td>\n",
       "      <td>0</td>\n",
       "      <td>0</td>\n",
       "      <td>0</td>\n",
       "      <td>1</td>\n",
       "      <td>0</td>\n",
       "      <td>0</td>\n",
       "      <td>1</td>\n",
       "    </tr>\n",
       "    <tr>\n",
       "      <th>300</th>\n",
       "      <td>68</td>\n",
       "      <td>144</td>\n",
       "      <td>193</td>\n",
       "      <td>141</td>\n",
       "      <td>3.4</td>\n",
       "      <td>2</td>\n",
       "      <td>0</td>\n",
       "      <td>1</td>\n",
       "      <td>0</td>\n",
       "      <td>0</td>\n",
       "      <td>1</td>\n",
       "      <td>0</td>\n",
       "      <td>0</td>\n",
       "      <td>0</td>\n",
       "      <td>0</td>\n",
       "      <td>0</td>\n",
       "      <td>1</td>\n",
       "      <td>0</td>\n",
       "      <td>0</td>\n",
       "      <td>1</td>\n",
       "    </tr>\n",
       "    <tr>\n",
       "      <th>301</th>\n",
       "      <td>57</td>\n",
       "      <td>130</td>\n",
       "      <td>131</td>\n",
       "      <td>115</td>\n",
       "      <td>1.2</td>\n",
       "      <td>1</td>\n",
       "      <td>0</td>\n",
       "      <td>1</td>\n",
       "      <td>0</td>\n",
       "      <td>0</td>\n",
       "      <td>1</td>\n",
       "      <td>1</td>\n",
       "      <td>0</td>\n",
       "      <td>0</td>\n",
       "      <td>1</td>\n",
       "      <td>0</td>\n",
       "      <td>1</td>\n",
       "      <td>0</td>\n",
       "      <td>0</td>\n",
       "      <td>1</td>\n",
       "    </tr>\n",
       "    <tr>\n",
       "      <th>302</th>\n",
       "      <td>57</td>\n",
       "      <td>130</td>\n",
       "      <td>236</td>\n",
       "      <td>174</td>\n",
       "      <td>0.0</td>\n",
       "      <td>1</td>\n",
       "      <td>0</td>\n",
       "      <td>0</td>\n",
       "      <td>1</td>\n",
       "      <td>0</td>\n",
       "      <td>0</td>\n",
       "      <td>1</td>\n",
       "      <td>0</td>\n",
       "      <td>1</td>\n",
       "      <td>0</td>\n",
       "      <td>0</td>\n",
       "      <td>1</td>\n",
       "      <td>1</td>\n",
       "      <td>0</td>\n",
       "      <td>0</td>\n",
       "    </tr>\n",
       "  </tbody>\n",
       "</table>\n",
       "<p>303 rows × 20 columns</p>\n",
       "</div>"
      ],
      "text/plain": [
       "     age  resting_blood_pressure  cholesterol  max_heart_rate  ST_depression  \\\n",
       "0     63                     145          233             150            2.3   \n",
       "1     37                     130          250             187            3.5   \n",
       "2     41                     130          204             172            1.4   \n",
       "3     56                     120          236             178            0.8   \n",
       "4     57                     120          354             163            0.6   \n",
       "..   ...                     ...          ...             ...            ...   \n",
       "298   57                     140          241             123            0.2   \n",
       "299   45                     110          264             132            1.2   \n",
       "300   68                     144          193             141            3.4   \n",
       "301   57                     130          131             115            1.2   \n",
       "302   57                     130          236             174            0.0   \n",
       "\n",
       "     num_of_vessels  target  sex_male  chest_pain_atypical angina  \\\n",
       "0                 0       1         1                           0   \n",
       "1                 0       1         1                           0   \n",
       "2                 0       1         0                           1   \n",
       "3                 0       1         1                           1   \n",
       "4                 0       1         0                           0   \n",
       "..              ...     ...       ...                         ...   \n",
       "298               0       0         0                           0   \n",
       "299               0       0         1                           0   \n",
       "300               2       0         1                           0   \n",
       "301               1       0         1                           0   \n",
       "302               1       0         0                           1   \n",
       "\n",
       "     chest_pain_non-anginal pain  chest_pain_typical angina  \\\n",
       "0                              0                          0   \n",
       "1                              1                          0   \n",
       "2                              0                          0   \n",
       "3                              0                          0   \n",
       "4                              0                          1   \n",
       "..                           ...                        ...   \n",
       "298                            0                          1   \n",
       "299                            0                          0   \n",
       "300                            0                          1   \n",
       "301                            0                          1   \n",
       "302                            0                          0   \n",
       "\n",
       "     fasting_blood_sugar_lower than 120mg/ml  \\\n",
       "0                                          0   \n",
       "1                                          1   \n",
       "2                                          1   \n",
       "3                                          1   \n",
       "4                                          1   \n",
       "..                                       ...   \n",
       "298                                        1   \n",
       "299                                        1   \n",
       "300                                        0   \n",
       "301                                        1   \n",
       "302                                        1   \n",
       "\n",
       "     restecg_left ventricular hypertrophy  restecg_normal  \\\n",
       "0                                       0               1   \n",
       "1                                       0               0   \n",
       "2                                       0               1   \n",
       "3                                       0               0   \n",
       "4                                       0               0   \n",
       "..                                    ...             ...   \n",
       "298                                     0               0   \n",
       "299                                     0               0   \n",
       "300                                     0               0   \n",
       "301                                     0               0   \n",
       "302                                     0               1   \n",
       "\n",
       "     exercise_induced_angina_yes  slope_flat  slope_upsloping  \\\n",
       "0                              0           0                0   \n",
       "1                              0           0                0   \n",
       "2                              0           1                0   \n",
       "3                              0           1                0   \n",
       "4                              1           1                0   \n",
       "..                           ...         ...              ...   \n",
       "298                            1           0                1   \n",
       "299                            0           0                1   \n",
       "300                            0           0                1   \n",
       "301                            1           0                1   \n",
       "302                            0           0                1   \n",
       "\n",
       "     thalium_stress_fixed defect  thalium_stress_normal  \\\n",
       "0                              0                      1   \n",
       "1                              1                      0   \n",
       "2                              1                      0   \n",
       "3                              1                      0   \n",
       "4                              1                      0   \n",
       "..                           ...                    ...   \n",
       "298                            0                      0   \n",
       "299                            0                      0   \n",
       "300                            0                      0   \n",
       "301                            0                      0   \n",
       "302                            1                      0   \n",
       "\n",
       "     thalium_stress_reversable defect  \n",
       "0                                   0  \n",
       "1                                   0  \n",
       "2                                   0  \n",
       "3                                   0  \n",
       "4                                   0  \n",
       "..                                ...  \n",
       "298                                 1  \n",
       "299                                 1  \n",
       "300                                 1  \n",
       "301                                 1  \n",
       "302                                 0  \n",
       "\n",
       "[303 rows x 20 columns]"
      ]
     },
     "execution_count": 35,
     "metadata": {},
     "output_type": "execute_result"
    }
   ],
   "source": [
    "df_ml"
   ]
  },
  {
   "cell_type": "code",
   "execution_count": 36,
   "id": "fa299baf",
   "metadata": {},
   "outputs": [],
   "source": [
    "X = df_ml.drop(['target'],axis=1)\n",
    "y = df['target']"
   ]
  },
  {
   "cell_type": "code",
   "execution_count": 37,
   "id": "27b4e596",
   "metadata": {},
   "outputs": [
    {
     "data": {
      "text/plain": [
       "((303, 19), (303,))"
      ]
     },
     "execution_count": 37,
     "metadata": {},
     "output_type": "execute_result"
    }
   ],
   "source": [
    "X.shape,y.shape"
   ]
  },
  {
   "cell_type": "markdown",
   "id": "e4dc0e08",
   "metadata": {},
   "source": [
    "* We will split the data into Training data and Test data.\n",
    "* Data involves columns where **['oldpeak']** ranges between 0-10 and **['chol']** ranges even above 200, so it's better to scale our data."
   ]
  },
  {
   "cell_type": "code",
   "execution_count": 38,
   "id": "632fd3bf",
   "metadata": {},
   "outputs": [],
   "source": [
    "from sklearn.model_selection import train_test_split\n",
    "from sklearn.preprocessing import StandardScaler"
   ]
  },
  {
   "cell_type": "code",
   "execution_count": 39,
   "id": "aa55ef91",
   "metadata": {},
   "outputs": [],
   "source": [
    "X_train, X_test, y_train, y_test = train_test_split(X, y, test_size=0.30, random_state=42)"
   ]
  },
  {
   "cell_type": "code",
   "execution_count": 40,
   "id": "65bcdbfe",
   "metadata": {},
   "outputs": [],
   "source": [
    "scaler = StandardScaler()"
   ]
  },
  {
   "cell_type": "code",
   "execution_count": 41,
   "id": "f62810fb",
   "metadata": {},
   "outputs": [],
   "source": [
    "scaled_X_train = scaler.fit_transform(X_train)\n",
    "scaled_X_test = scaler.transform(X_test)"
   ]
  },
  {
   "cell_type": "markdown",
   "id": "0275ef48",
   "metadata": {},
   "source": [
    "### Model selection options:\n",
    "\n",
    "From the data, we can try for following models:-\n",
    "* **Logistic Regression**\n",
    "* **KNN classifier**\n",
    "* **Random Forest classifier**\n",
    "\n",
    "We will try to run these models on default parameters and compare the model scores.\n",
    "\n",
    "Later we will choose one of the model and try to hypertune it to achieve its maximum score.\n"
   ]
  },
  {
   "cell_type": "code",
   "execution_count": 42,
   "id": "b2135146",
   "metadata": {},
   "outputs": [],
   "source": [
    "from sklearn.linear_model import LogisticRegression\n",
    "from sklearn.neighbors import KNeighborsClassifier\n",
    "from sklearn.ensemble import RandomForestClassifier"
   ]
  },
  {
   "cell_type": "code",
   "execution_count": 43,
   "id": "0a930484",
   "metadata": {},
   "outputs": [],
   "source": [
    "models = {'log_model':LogisticRegression(),\n",
    "               'knn':KNeighborsClassifier(),\n",
    "               'rfc':RandomForestClassifier()\n",
    "         }"
   ]
  },
  {
   "cell_type": "code",
   "execution_count": 44,
   "id": "4d6e730f",
   "metadata": {},
   "outputs": [],
   "source": [
    "#define a function which can take in the parameters and show us the model_scores\n",
    "\n",
    "def fit_score(models,X_train,y_train,X_test,y_test):\n",
    "    '''\n",
    "    Fits and evaluates scores for the model\n",
    "    '''\n",
    "    np.random.seed(42)\n",
    "    model_scores={}\n",
    "    for name,model in models.items():\n",
    "        model.fit(X_train,y_train)\n",
    "        model_scores[name] = model.score(X_test,y_test)\n",
    "    return model_scores"
   ]
  },
  {
   "cell_type": "code",
   "execution_count": 45,
   "id": "88f305bf",
   "metadata": {},
   "outputs": [
    {
     "data": {
      "text/plain": [
       "{'log_model': 0.8241758241758241,\n",
       " 'knn': 0.7692307692307693,\n",
       " 'rfc': 0.8131868131868132}"
      ]
     },
     "execution_count": 45,
     "metadata": {},
     "output_type": "execute_result"
    }
   ],
   "source": [
    "model_scores = fit_score(models =models,\n",
    "                        X_train = scaled_X_train,\n",
    "                        y_train = y_train,\n",
    "                        X_test = scaled_X_test,\n",
    "                        y_test = y_test)\n",
    "\n",
    "model_scores"
   ]
  },
  {
   "cell_type": "markdown",
   "id": "11922528",
   "metadata": {},
   "source": [
    "## MODEL COMPARISON"
   ]
  },
  {
   "cell_type": "code",
   "execution_count": 46,
   "id": "5fc31cd8",
   "metadata": {},
   "outputs": [],
   "source": [
    "model_compare = pd.DataFrame(model_scores,index=['accuracy'])"
   ]
  },
  {
   "cell_type": "code",
   "execution_count": 47,
   "id": "5e2f98a8",
   "metadata": {},
   "outputs": [
    {
     "data": {
      "image/png": "[encoded data removed]",
      "text/plain": [
       "<Figure size 720x432 with 1 Axes>"
      ]
     },
     "metadata": {
      "needs_background": "light"
     },
     "output_type": "display_data"
    }
   ],
   "source": [
    "plt.figure(figsize=(10,6))\n",
    "\n",
    "sns.barplot(data=model_compare)\n",
    "plt.title('Accuracy');"
   ]
  },
  {
   "cell_type": "code",
   "execution_count": 48,
   "id": "d896cfb6",
   "metadata": {},
   "outputs": [],
   "source": [
    "from sklearn.metrics import plot_confusion_matrix"
   ]
  },
  {
   "cell_type": "code",
   "execution_count": 49,
   "id": "9d997e8a",
   "metadata": {},
   "outputs": [],
   "source": [
    "def plot_matrix(models,X_test,y_test):\n",
    "    for name,model in models.items():\n",
    "        plot_confusion_matrix(model,X_test,y_test)"
   ]
  },
  {
   "cell_type": "code",
   "execution_count": 50,
   "id": "a61abae4",
   "metadata": {},
   "outputs": [
    {
     "data": {
      "image/png": "[encoded data removed]",
      "text/plain": [
       "<Figure size 432x288 with 2 Axes>"
      ]
     },
     "metadata": {
      "needs_background": "light"
     },
     "output_type": "display_data"
    },
    {
     "data": {
      "image/png": "[encoded data removed]",
      "text/plain": [
       "<Figure size 432x288 with 2 Axes>"
      ]
     },
     "metadata": {
      "needs_background": "light"
     },
     "output_type": "display_data"
    },
    {
     "data": {
      "image/png": "[encoded data removed]",
      "text/plain": [
       "<Figure size 432x288 with 2 Axes>"
      ]
     },
     "metadata": {
      "needs_background": "light"
     },
     "output_type": "display_data"
    }
   ],
   "source": [
    "plot_matrix(models=models, X_test=scaled_X_test,y_test=y_test)"
   ]
  },
  {
   "cell_type": "markdown",
   "id": "1b2bff19",
   "metadata": {},
   "source": [
    "## Hyperparameter Tuning and Cross Validation\n",
    "\n",
    "## * Tune hyperparameters for **KNN** classifier"
   ]
  },
  {
   "cell_type": "code",
   "execution_count": 51,
   "id": "a346d063",
   "metadata": {},
   "outputs": [],
   "source": [
    "train_scores = []\n",
    "test_scores = []\n",
    "\n",
    "neighbors = range(1,21)"
   ]
  },
  {
   "cell_type": "code",
   "execution_count": 52,
   "id": "afd09463",
   "metadata": {},
   "outputs": [],
   "source": [
    "knn = KNeighborsClassifier()   "
   ]
  },
  {
   "cell_type": "code",
   "execution_count": 53,
   "id": "bb16f72e",
   "metadata": {},
   "outputs": [],
   "source": [
    "for i in neighbors:\n",
    "    knn.set_params(n_neighbors = i)\n",
    "    knn.fit(scaled_X_train,y_train)\n",
    "    train_scores.append(knn.score(scaled_X_train,y_train))\n",
    "    test_scores.append(knn.score(scaled_X_test,y_test))"
   ]
  },
  {
   "cell_type": "markdown",
   "id": "f5ee26e5",
   "metadata": {},
   "source": [
    "Let's plot the scores to visualize"
   ]
  },
  {
   "cell_type": "code",
   "execution_count": 54,
   "id": "a0f34301",
   "metadata": {},
   "outputs": [
    {
     "name": "stdout",
     "output_type": "stream",
     "text": [
      "Maximum score for test data : 84.62%\n"
     ]
    },
    {
     "data": {
      "image/png": "[encoded data removed]",
      "text/plain": [
       "<Figure size 432x288 with 1 Axes>"
      ]
     },
     "metadata": {
      "needs_background": "light"
     },
     "output_type": "display_data"
    }
   ],
   "source": [
    "plt.plot(neighbors,train_scores,label='Train Score')\n",
    "plt.plot(neighbors,test_scores,label ='Test Score')\n",
    "\n",
    "plt.xticks(np.arange(1,21,1))\n",
    "plt.ylabel('model score')\n",
    "plt.xlabel('neighbors')\n",
    "plt.legend()\n",
    "print(f\"Maximum score for test data : {max(test_scores)*100:.2f}%\")"
   ]
  },
  {
   "cell_type": "markdown",
   "id": "16ca30d5",
   "metadata": {},
   "source": [
    "we are getting the maximum score of 84.62% , we can further use hypertuning to improve this"
   ]
  },
  {
   "cell_type": "code",
   "execution_count": 55,
   "id": "412ca6f2",
   "metadata": {},
   "outputs": [],
   "source": [
    "from sklearn.model_selection import GridSearchCV,RandomizedSearchCV"
   ]
  },
  {
   "cell_type": "code",
   "execution_count": 56,
   "id": "b6485a80",
   "metadata": {},
   "outputs": [],
   "source": [
    "\n",
    "grid_params = { 'n_neighbors' : np.arange(7,14,1),\n",
    "               'leaf_size':[5,10,20,30,50],\n",
    "               'weights' : ['uniform','distance'],\n",
    "               'metric' : ['minkowski','euclidean','manhattan']\n",
    "               }"
   ]
  },
  {
   "cell_type": "code",
   "execution_count": 57,
   "id": "5ea15be7",
   "metadata": {},
   "outputs": [],
   "source": [
    "knn_2 = KNeighborsClassifier()"
   ]
  },
  {
   "cell_type": "code",
   "execution_count": 58,
   "id": "7a53dcb8",
   "metadata": {},
   "outputs": [],
   "source": [
    "grid_model_knn = GridSearchCV(knn_2,param_grid=grid_params,cv=10,verbose=1,scoring='accuracy')"
   ]
  },
  {
   "cell_type": "code",
   "execution_count": 59,
   "id": "d926f9ec",
   "metadata": {},
   "outputs": [
    {
     "name": "stdout",
     "output_type": "stream",
     "text": [
      "Fitting 10 folds for each of 210 candidates, totalling 2100 fits\n"
     ]
    }
   ],
   "source": [
    "np.random.seed(42)\n",
    "\n",
    "knn_grid_model = grid_model_knn.fit(scaled_X_train,y_train)"
   ]
  },
  {
   "cell_type": "code",
   "execution_count": 60,
   "id": "465f0f8d",
   "metadata": {},
   "outputs": [
    {
     "data": {
      "text/plain": [
       "{'algorithm': 'auto',\n",
       " 'leaf_size': 5,\n",
       " 'metric': 'manhattan',\n",
       " 'metric_params': None,\n",
       " 'n_jobs': None,\n",
       " 'n_neighbors': 13,\n",
       " 'p': 2,\n",
       " 'weights': 'distance'}"
      ]
     },
     "execution_count": 60,
     "metadata": {},
     "output_type": "execute_result"
    }
   ],
   "source": [
    "knn_grid_model.best_estimator_.get_params()"
   ]
  },
  {
   "cell_type": "code",
   "execution_count": 61,
   "id": "9d19db98",
   "metadata": {},
   "outputs": [
    {
     "data": {
      "text/plain": [
       "0.8437229437229437"
      ]
     },
     "execution_count": 61,
     "metadata": {},
     "output_type": "execute_result"
    }
   ],
   "source": [
    "knn_grid_model.best_score_"
   ]
  },
  {
   "cell_type": "code",
   "execution_count": 62,
   "id": "b56e6f27",
   "metadata": {},
   "outputs": [
    {
     "data": {
      "text/plain": [
       "0.8571428571428571"
      ]
     },
     "execution_count": 62,
     "metadata": {},
     "output_type": "execute_result"
    }
   ],
   "source": [
    "knn_grid_model.score(scaled_X_test, y_test)"
   ]
  },
  {
   "cell_type": "markdown",
   "id": "67342228",
   "metadata": {},
   "source": [
    "We observe that the score we get after hypertuning is 0.8571, so we should try to use other algorithms"
   ]
  },
  {
   "cell_type": "markdown",
   "id": "21cb59d5",
   "metadata": {},
   "source": [
    "## Logistic Regression"
   ]
  },
  {
   "cell_type": "code",
   "execution_count": 63,
   "id": "5a80e8bc",
   "metadata": {},
   "outputs": [],
   "source": [
    "log_reg_grid_params = {'C':np.logspace(-4,4,20),\n",
    "                       'solver':['liblinear']\n",
    "                        }"
   ]
  },
  {
   "cell_type": "code",
   "execution_count": 64,
   "id": "1525fe08",
   "metadata": {},
   "outputs": [
    {
     "name": "stdout",
     "output_type": "stream",
     "text": [
      "Fitting 5 folds for each of 10 candidates, totalling 50 fits\n"
     ]
    },
    {
     "data": {
      "text/plain": [
       "RandomizedSearchCV(cv=5, estimator=LogisticRegression(),\n",
       "                   param_distributions={'C': array([1.00000000e-04, 2.63665090e-04, 6.95192796e-04, 1.83298071e-03,\n",
       "       4.83293024e-03, 1.27427499e-02, 3.35981829e-02, 8.85866790e-02,\n",
       "       2.33572147e-01, 6.15848211e-01, 1.62377674e+00, 4.28133240e+00,\n",
       "       1.12883789e+01, 2.97635144e+01, 7.84759970e+01, 2.06913808e+02,\n",
       "       5.45559478e+02, 1.43844989e+03, 3.79269019e+03, 1.00000000e+04]),\n",
       "                                        'solver': ['liblinear']},\n",
       "                   verbose=True)"
      ]
     },
     "execution_count": 64,
     "metadata": {},
     "output_type": "execute_result"
    }
   ],
   "source": [
    "np.random.seed(42)\n",
    "\n",
    "log_reg_randomsearch = RandomizedSearchCV(estimator =LogisticRegression(),\n",
    "                                     param_distributions =log_reg_grid_params,\n",
    "                                     n_iter=10,\n",
    "                                     cv=5,\n",
    "                                     verbose=True)\n",
    "\n",
    "log_reg_randomsearch.fit(scaled_X_train,y_train)"
   ]
  },
  {
   "cell_type": "code",
   "execution_count": 65,
   "id": "16705603",
   "metadata": {},
   "outputs": [
    {
     "data": {
      "text/plain": [
       "{'solver': 'liblinear', 'C': 0.012742749857031334}"
      ]
     },
     "execution_count": 65,
     "metadata": {},
     "output_type": "execute_result"
    }
   ],
   "source": [
    "log_reg_randomsearch.best_params_"
   ]
  },
  {
   "cell_type": "code",
   "execution_count": 66,
   "id": "9bc2ec39",
   "metadata": {},
   "outputs": [
    {
     "data": {
      "text/plain": [
       "0.8571428571428571"
      ]
     },
     "execution_count": 66,
     "metadata": {},
     "output_type": "execute_result"
    }
   ],
   "source": [
    "log_reg_randomsearch.score(scaled_X_test,y_test)"
   ]
  },
  {
   "cell_type": "markdown",
   "id": "e628818b",
   "metadata": {},
   "source": [
    "This shows improvement from our earlier regular Logistic regression score.\n",
    "\n",
    "From 81.31 to 85.71"
   ]
  },
  {
   "cell_type": "code",
   "execution_count": 67,
   "id": "42638d5d",
   "metadata": {},
   "outputs": [
    {
     "name": "stdout",
     "output_type": "stream",
     "text": [
      "Fitting 5 folds for each of 20 candidates, totalling 100 fits\n"
     ]
    },
    {
     "data": {
      "text/plain": [
       "GridSearchCV(cv=5, estimator=LogisticRegression(),\n",
       "             param_grid={'C': array([1.00000000e-04, 2.63665090e-04, 6.95192796e-04, 1.83298071e-03,\n",
       "       4.83293024e-03, 1.27427499e-02, 3.35981829e-02, 8.85866790e-02,\n",
       "       2.33572147e-01, 6.15848211e-01, 1.62377674e+00, 4.28133240e+00,\n",
       "       1.12883789e+01, 2.97635144e+01, 7.84759970e+01, 2.06913808e+02,\n",
       "       5.45559478e+02, 1.43844989e+03, 3.79269019e+03, 1.00000000e+04]),\n",
       "                         'solver': ['liblinear']},\n",
       "             verbose=True)"
      ]
     },
     "execution_count": 67,
     "metadata": {},
     "output_type": "execute_result"
    }
   ],
   "source": [
    "np.random.seed(42)\n",
    "\n",
    "log_reg_gridsearch = GridSearchCV(estimator =LogisticRegression(),\n",
    "                                 param_grid=log_reg_grid_params,\n",
    "                                 cv=5,verbose=True)\n",
    "\n",
    "log_reg_gridsearch.fit(scaled_X_train,y_train)"
   ]
  },
  {
   "cell_type": "code",
   "execution_count": 68,
   "id": "d8f534df",
   "metadata": {},
   "outputs": [
    {
     "data": {
      "text/plain": [
       "{'C': 0.08858667904100823, 'solver': 'liblinear'}"
      ]
     },
     "execution_count": 68,
     "metadata": {},
     "output_type": "execute_result"
    }
   ],
   "source": [
    "log_reg_gridsearch.best_params_"
   ]
  },
  {
   "cell_type": "code",
   "execution_count": 69,
   "id": "b81c60f7",
   "metadata": {},
   "outputs": [
    {
     "data": {
      "text/plain": [
       "0.8351648351648352"
      ]
     },
     "execution_count": 69,
     "metadata": {},
     "output_type": "execute_result"
    }
   ],
   "source": [
    "log_reg_gridsearch.score(scaled_X_test,y_test)"
   ]
  },
  {
   "cell_type": "markdown",
   "id": "9a5704ac",
   "metadata": {},
   "source": [
    "## Random Forest Classifier"
   ]
  },
  {
   "cell_type": "code",
   "execution_count": 70,
   "id": "926843f7",
   "metadata": {},
   "outputs": [],
   "source": [
    "rfc_params = {'n_estimators': np.arange(10,1000,50),\n",
    "              'max_depth':[None,3,5,10],\n",
    "              'min_samples_split': np.arange(2, 20, 2),\n",
    "              'min_samples_leaf': np.arange(1, 20, 2)\n",
    "              }"
   ]
  },
  {
   "cell_type": "code",
   "execution_count": 71,
   "id": "2d6cafc7",
   "metadata": {},
   "outputs": [
    {
     "name": "stdout",
     "output_type": "stream",
     "text": [
      "Fitting 5 folds for each of 10 candidates, totalling 50 fits\n"
     ]
    },
    {
     "data": {
      "text/plain": [
       "RandomizedSearchCV(cv=5, estimator=RandomForestClassifier(),\n",
       "                   param_distributions={'max_depth': [None, 3, 5, 10],\n",
       "                                        'min_samples_leaf': array([ 1,  3,  5,  7,  9, 11, 13, 15, 17, 19]),\n",
       "                                        'min_samples_split': array([ 2,  4,  6,  8, 10, 12, 14, 16, 18]),\n",
       "                                        'n_estimators': array([ 10,  60, 110, 160, 210, 260, 310, 360, 410, 460, 510, 560, 610,\n",
       "       660, 710, 760, 810, 860, 910, 960])},\n",
       "                   verbose=1)"
      ]
     },
     "execution_count": 71,
     "metadata": {},
     "output_type": "execute_result"
    }
   ],
   "source": [
    "np.random.seed(42)\n",
    "\n",
    "rfc_randomsearch = RandomizedSearchCV(RandomForestClassifier(), param_distributions=rfc_params,\n",
    "                             cv = 5,n_iter=10,\n",
    "                             verbose=1)\n",
    "\n",
    "rfc_randomsearch.fit(scaled_X_train,y_train)"
   ]
  },
  {
   "cell_type": "code",
   "execution_count": 72,
   "id": "595d91a9",
   "metadata": {},
   "outputs": [
    {
     "data": {
      "text/plain": [
       "{'n_estimators': 610,\n",
       " 'min_samples_split': 4,\n",
       " 'min_samples_leaf': 15,\n",
       " 'max_depth': 3}"
      ]
     },
     "execution_count": 72,
     "metadata": {},
     "output_type": "execute_result"
    }
   ],
   "source": [
    "rfc_randomsearch.best_params_"
   ]
  },
  {
   "cell_type": "code",
   "execution_count": 73,
   "id": "c0d75954",
   "metadata": {},
   "outputs": [],
   "source": [
    "rfc_params_2 = {'n_estimators': [610],\n",
    "              'max_depth':[3,5,10],\n",
    "              'min_samples_split': [5,10,15],\n",
    "              'min_samples_leaf': [7,9,11,15]\n",
    "              }"
   ]
  },
  {
   "cell_type": "code",
   "execution_count": 74,
   "id": "6ef1309a",
   "metadata": {},
   "outputs": [
    {
     "name": "stdout",
     "output_type": "stream",
     "text": [
      "Fitting 5 folds for each of 36 candidates, totalling 180 fits\n"
     ]
    },
    {
     "data": {
      "text/plain": [
       "GridSearchCV(cv=5, estimator=RandomForestClassifier(),\n",
       "             param_grid={'max_depth': [3, 5, 10],\n",
       "                         'min_samples_leaf': [7, 9, 11, 15],\n",
       "                         'min_samples_split': [5, 10, 15],\n",
       "                         'n_estimators': [610]},\n",
       "             verbose=1)"
      ]
     },
     "execution_count": 74,
     "metadata": {},
     "output_type": "execute_result"
    }
   ],
   "source": [
    "np.random.seed(42)\n",
    "\n",
    "rfc_gridsearch = GridSearchCV(RandomForestClassifier(), param_grid=rfc_params_2,\n",
    "                             cv = 5,\n",
    "                             verbose=1)\n",
    "\n",
    "rfc_gridsearch.fit(scaled_X_train,y_train)"
   ]
  },
  {
   "cell_type": "code",
   "execution_count": 75,
   "id": "81fc6244",
   "metadata": {},
   "outputs": [
    {
     "data": {
      "text/plain": [
       "{'max_depth': 3,\n",
       " 'min_samples_leaf': 15,\n",
       " 'min_samples_split': 5,\n",
       " 'n_estimators': 610}"
      ]
     },
     "execution_count": 75,
     "metadata": {},
     "output_type": "execute_result"
    }
   ],
   "source": [
    "rfc_gridsearch.best_params_"
   ]
  },
  {
   "cell_type": "code",
   "execution_count": 76,
   "id": "5c56a633",
   "metadata": {},
   "outputs": [
    {
     "data": {
      "text/plain": [
       "0.8461538461538461"
      ]
     },
     "execution_count": 76,
     "metadata": {},
     "output_type": "execute_result"
    }
   ],
   "source": [
    "rfc_gridsearch.score(scaled_X_test,y_test)"
   ]
  },
  {
   "cell_type": "markdown",
   "id": "00f7e39f",
   "metadata": {},
   "source": [
    "## XGBOOST"
   ]
  },
  {
   "cell_type": "code",
   "execution_count": 77,
   "id": "2d61f668",
   "metadata": {},
   "outputs": [],
   "source": [
    "import xgboost as xgb"
   ]
  },
  {
   "cell_type": "code",
   "execution_count": 78,
   "id": "d66d252c",
   "metadata": {},
   "outputs": [],
   "source": [
    "xgb_clf = xgb.XGBClassifier()"
   ]
  },
  {
   "cell_type": "code",
   "execution_count": 79,
   "id": "45ee2703",
   "metadata": {},
   "outputs": [],
   "source": [
    "xgb_params =  {\n",
    "    'n_estimators': range(1,20),\n",
    "    'learning_rate': [0.1,0.4, 0.45, 0.5, 0.55, 0.6],\n",
    "    'colsample_bytree': [0.6, 0.7, 0.8, 0.9, 1],\n",
    "    'booster':[\"gbtree\"],\n",
    "    'min_child_weight': [0.001,0.003,0.01]\n",
    "}"
   ]
  },
  {
   "cell_type": "code",
   "execution_count": 80,
   "id": "93aeb5c8",
   "metadata": {},
   "outputs": [
    {
     "data": {
      "text/plain": [
       "RandomizedSearchCV(cv=5,\n",
       "                   estimator=XGBClassifier(base_score=None, booster=None,\n",
       "                                           callbacks=None,\n",
       "                                           colsample_bylevel=None,\n",
       "                                           colsample_bynode=None,\n",
       "                                           colsample_bytree=None,\n",
       "                                           early_stopping_rounds=None,\n",
       "                                           enable_categorical=False,\n",
       "                                           eval_metric=None, gamma=None,\n",
       "                                           gpu_id=None, grow_policy=None,\n",
       "                                           importance_type=None,\n",
       "                                           interaction_constraints=None,\n",
       "                                           learning_rate=None, max_bin=None,...\n",
       "                                           monotone_constraints=None,\n",
       "                                           n_estimators=100, n_jobs=None,\n",
       "                                           num_parallel_tree=None,\n",
       "                                           predictor=None, random_state=None,\n",
       "                                           reg_alpha=None, reg_lambda=None, ...),\n",
       "                   n_iter=20,\n",
       "                   param_distributions={'booster': ['gbtree'],\n",
       "                                        'colsample_bytree': [0.6, 0.7, 0.8, 0.9,\n",
       "                                                             1],\n",
       "                                        'learning_rate': [0.1, 0.4, 0.45, 0.5,\n",
       "                                                          0.55, 0.6],\n",
       "                                        'min_child_weight': [0.001, 0.003,\n",
       "                                                             0.01],\n",
       "                                        'n_estimators': range(1, 20)},\n",
       "                   scoring='accuracy')"
      ]
     },
     "execution_count": 80,
     "metadata": {},
     "output_type": "execute_result"
    }
   ],
   "source": [
    "np.random.seed(42)\n",
    "\n",
    "xgb_randomsearch = RandomizedSearchCV(param_distributions=xgb_params, \n",
    "                                    estimator = xgb_clf, scoring = \"accuracy\", \n",
    "                                    verbose = 0, n_iter = 20, cv = 5)\n",
    "\n",
    "xgb_randomsearch.fit(scaled_X_train,y_train)"
   ]
  },
  {
   "cell_type": "code",
   "execution_count": 81,
   "id": "63b54d14",
   "metadata": {},
   "outputs": [
    {
     "data": {
      "text/plain": [
       "{'n_estimators': 12,\n",
       " 'min_child_weight': 0.01,\n",
       " 'learning_rate': 0.1,\n",
       " 'colsample_bytree': 0.9,\n",
       " 'booster': 'gbtree'}"
      ]
     },
     "execution_count": 81,
     "metadata": {},
     "output_type": "execute_result"
    }
   ],
   "source": [
    "xgb_randomsearch.best_params_"
   ]
  },
  {
   "cell_type": "code",
   "execution_count": 82,
   "id": "9f2633bd",
   "metadata": {},
   "outputs": [
    {
     "data": {
      "text/plain": [
       "0.8131868131868132"
      ]
     },
     "execution_count": 82,
     "metadata": {},
     "output_type": "execute_result"
    }
   ],
   "source": [
    "xgb_randomsearch.score(scaled_X_test,y_test)"
   ]
  },
  {
   "cell_type": "markdown",
   "id": "c3c812a6",
   "metadata": {},
   "source": [
    "Let us compare the model scores visually to see what kind of values we get after hypertuning"
   ]
  },
  {
   "cell_type": "markdown",
   "id": "9235f588",
   "metadata": {},
   "source": [
    "## Visualizing model comparison"
   ]
  },
  {
   "cell_type": "code",
   "execution_count": 83,
   "id": "1de9bd5f",
   "metadata": {},
   "outputs": [
    {
     "data": {
      "text/plain": [
       "{'log_model': 0.8241758241758241,\n",
       " 'knn': 0.7692307692307693,\n",
       " 'rfc': 0.8131868131868132}"
      ]
     },
     "execution_count": 83,
     "metadata": {},
     "output_type": "execute_result"
    }
   ],
   "source": [
    "model_scores"
   ]
  },
  {
   "cell_type": "code",
   "execution_count": 84,
   "id": "59725d62",
   "metadata": {},
   "outputs": [],
   "source": [
    "model_compare_dictionary = {}\n",
    "\n",
    "model_compare_hypertuning = {'knn_grid_model':knn_grid_model.score(scaled_X_test, y_test),\n",
    "                            'log_reg_gridsearch':log_reg_gridsearch.score(scaled_X_test,y_test),\n",
    "                            'rfc_gridsearch':rfc_gridsearch.score(scaled_X_test,y_test),\n",
    "                            'xgb_randomsearch':xgb_randomsearch.score(scaled_X_test,y_test)}\n",
    "model_compare_dictionary.update(model_scores)\n",
    "model_compare_dictionary.update(model_compare_hypertuning)\n",
    "\n"
   ]
  },
  {
   "cell_type": "code",
   "execution_count": 85,
   "id": "0e873ebe",
   "metadata": {},
   "outputs": [],
   "source": [
    "model_names = list(model_compare_dictionary.keys())\n",
    "model_values = list(model_compare_dictionary.values())"
   ]
  },
  {
   "cell_type": "code",
   "execution_count": 86,
   "id": "0bb6f264",
   "metadata": {},
   "outputs": [
    {
     "data": {
      "image/png": "[encoded data removed]",
      "text/plain": [
       "<Figure size 720x432 with 1 Axes>"
      ]
     },
     "metadata": {
      "needs_background": "light"
     },
     "output_type": "display_data"
    }
   ],
   "source": [
    "plt.figure(figsize=(10,6))\n",
    "sns.barplot(x=model_names,y=model_values,\n",
    "           order=['knn','knn_grid_model','log_model','log_reg_gridsearch','rfc','rfc_gridsearch','xgb_randomsearch'])\n",
    "\n",
    "plt.xticks(rotation=(90))\n",
    "plt.ylim(0.7,0.90)\n",
    "plt.title('Model Scores comparison')\n",
    "plt.xlabel('Models checked for classification')\n",
    "plt.ylabel('Model score (R^2)');"
   ]
  },
  {
   "cell_type": "markdown",
   "id": "0d24416f",
   "metadata": {},
   "source": [
    "We can see that the grid search models are performing better than the general models.\n",
    "Hypertuning has helped the model to classify better.\n",
    "\n",
    "* The best performing models are hypertuned KNN, Logistic Regression and Random Forest classifier.And they are performing similar.\n",
    "* But still, no model could take score above 90%, which was our criteria for this project"
   ]
  },
  {
   "cell_type": "markdown",
   "id": "041dbd8a",
   "metadata": {},
   "source": [
    "## EVALUATION with other metrics"
   ]
  },
  {
   "cell_type": "code",
   "execution_count": 87,
   "id": "e66e6d51",
   "metadata": {},
   "outputs": [],
   "source": [
    "ypreds_log_reg = log_reg_gridsearch.predict(scaled_X_test)\n",
    "ypreds_knn = knn_grid_model.predict(scaled_X_test)\n",
    "ypreds_rfc = rfc_gridsearch.predict(scaled_X_test)"
   ]
  },
  {
   "cell_type": "code",
   "execution_count": 88,
   "id": "f9d4599a",
   "metadata": {},
   "outputs": [],
   "source": [
    "from sklearn.metrics import plot_roc_curve"
   ]
  },
  {
   "cell_type": "code",
   "execution_count": 89,
   "id": "2c777efb",
   "metadata": {},
   "outputs": [],
   "source": [
    "def plot_roc(anymodel,X_test,y_test):\n",
    "    '''\n",
    "    plot roc curve for models present in a list,dic or tuple\n",
    "    '''\n",
    "    ax =plt.gca()\n",
    "    for i in anymodel:\n",
    "        fig = plot_roc_curve(i,X_test,y_test,ax=ax,name=i.estimator)\n",
    "    "
   ]
  },
  {
   "cell_type": "code",
   "execution_count": 90,
   "id": "c4cab532",
   "metadata": {},
   "outputs": [],
   "source": [
    "model_final = [log_reg_gridsearch,knn_grid_model,rfc_gridsearch]"
   ]
  },
  {
   "cell_type": "code",
   "execution_count": 91,
   "id": "59d57e2a",
   "metadata": {},
   "outputs": [
    {
     "data": {
      "image/png": "[encoded data removed]",
      "text/plain": [
       "<Figure size 720x432 with 1 Axes>"
      ]
     },
     "metadata": {
      "needs_background": "light"
     },
     "output_type": "display_data"
    }
   ],
   "source": [
    "plt.figure(figsize=(10,6))\n",
    "\n",
    "plot_roc(model_final,X_test=scaled_X_test,y_test=y_test)\n",
    "\n",
    "plt.title('AUC Curves comparison');\n"
   ]
  },
  {
   "cell_type": "code",
   "execution_count": 92,
   "id": "b10b328d",
   "metadata": {},
   "outputs": [],
   "source": [
    "from sklearn.metrics import plot_confusion_matrix,classification_report"
   ]
  },
  {
   "cell_type": "code",
   "execution_count": 93,
   "id": "cdd161e0",
   "metadata": {},
   "outputs": [],
   "source": [
    "def plot_conf_matrices(anymodel,X_test,y_test):\n",
    "    '''\n",
    "    plot confusion matrix for models\n",
    "    '''\n",
    "    for i in anymodel:\n",
    "        plot_confusion_matrix(i,X_test,y_test)"
   ]
  },
  {
   "cell_type": "code",
   "execution_count": 94,
   "id": "425b538f",
   "metadata": {},
   "outputs": [
    {
     "data": {
      "image/png": "[encoded data removed]",
      "text/plain": [
       "<Figure size 432x288 with 2 Axes>"
      ]
     },
     "metadata": {
      "needs_background": "light"
     },
     "output_type": "display_data"
    },
    {
     "data": {
      "image/png": "[encoded data removed]",
      "text/plain": [
       "<Figure size 432x288 with 2 Axes>"
      ]
     },
     "metadata": {
      "needs_background": "light"
     },
     "output_type": "display_data"
    },
    {
     "data": {
      "image/png": "[encoded data removed]",
      "text/plain": [
       "<Figure size 432x288 with 2 Axes>"
      ]
     },
     "metadata": {
      "needs_background": "light"
     },
     "output_type": "display_data"
    }
   ],
   "source": [
    "plot_conf_matrices(model_final,X_test=scaled_X_test,y_test=y_test)"
   ]
  },
  {
   "cell_type": "code",
   "execution_count": 95,
   "id": "a4cd5a0f",
   "metadata": {},
   "outputs": [],
   "source": [
    "ypreds_list = [ypreds_log_reg,ypreds_knn,ypreds_rfc]"
   ]
  },
  {
   "cell_type": "code",
   "execution_count": 96,
   "id": "39998409",
   "metadata": {},
   "outputs": [],
   "source": [
    "pred_dict = {'Logistic Regression':ypreds_log_reg,\n",
    "            'KNN Classifier':ypreds_knn,\n",
    "            'Random Forest Classifier':ypreds_rfc}"
   ]
  },
  {
   "cell_type": "code",
   "execution_count": 97,
   "id": "3665b2b3",
   "metadata": {},
   "outputs": [
    {
     "name": "stdout",
     "output_type": "stream",
     "text": [
      "Logistic Regression\n",
      "              precision    recall  f1-score   support\n",
      "\n",
      "           0       0.81      0.83      0.82        41\n",
      "           1       0.86      0.84      0.85        50\n",
      "\n",
      "    accuracy                           0.84        91\n",
      "   macro avg       0.83      0.83      0.83        91\n",
      "weighted avg       0.84      0.84      0.84        91\n",
      "\n",
      "KNN Classifier\n",
      "              precision    recall  f1-score   support\n",
      "\n",
      "           0       0.82      0.88      0.85        41\n",
      "           1       0.89      0.84      0.87        50\n",
      "\n",
      "    accuracy                           0.86        91\n",
      "   macro avg       0.86      0.86      0.86        91\n",
      "weighted avg       0.86      0.86      0.86        91\n",
      "\n",
      "Random Forest Classifier\n",
      "              precision    recall  f1-score   support\n",
      "\n",
      "           0       0.85      0.80      0.83        41\n",
      "           1       0.85      0.88      0.86        50\n",
      "\n",
      "    accuracy                           0.85        91\n",
      "   macro avg       0.85      0.84      0.84        91\n",
      "weighted avg       0.85      0.85      0.85        91\n",
      "\n"
     ]
    }
   ],
   "source": [
    "for k,v in pred_dict.items():\n",
    "    print(k)\n",
    "    print(classification_report(y_test,v))"
   ]
  },
  {
   "cell_type": "markdown",
   "id": "e48c71ea",
   "metadata": {},
   "source": [
    "We can see that these 3 models are perfroming almost similar with nearly same f1-scores.\n",
    "\n",
    "Let us be more certain on evaluation by evaluating all scores using cross validation.\n",
    "* For cross validated score, we need to use the best performing parameters for the models"
   ]
  },
  {
   "cell_type": "code",
   "execution_count": 98,
   "id": "6e923883",
   "metadata": {},
   "outputs": [],
   "source": [
    "def best_param(model_array):\n",
    "    for i in model_array:\n",
    "        print(i.best_params_)"
   ]
  },
  {
   "cell_type": "code",
   "execution_count": 99,
   "id": "4f057e76",
   "metadata": {},
   "outputs": [
    {
     "name": "stdout",
     "output_type": "stream",
     "text": [
      "{'C': 0.08858667904100823, 'solver': 'liblinear'}\n",
      "{'leaf_size': 5, 'metric': 'manhattan', 'n_neighbors': 13, 'weights': 'distance'}\n",
      "{'max_depth': 3, 'min_samples_leaf': 15, 'min_samples_split': 5, 'n_estimators': 610}\n"
     ]
    }
   ],
   "source": [
    "best_param(model_final)"
   ]
  },
  {
   "cell_type": "code",
   "execution_count": 100,
   "id": "65c07817",
   "metadata": {},
   "outputs": [],
   "source": [
    "from sklearn.model_selection import cross_val_score"
   ]
  },
  {
   "cell_type": "code",
   "execution_count": 101,
   "id": "f6958155",
   "metadata": {},
   "outputs": [],
   "source": [
    "clf_log_reg = LogisticRegression(C=0.03359818286283781,solver= 'liblinear')"
   ]
  },
  {
   "cell_type": "code",
   "execution_count": 102,
   "id": "2de79229",
   "metadata": {},
   "outputs": [],
   "source": [
    "clf_KNN = KNeighborsClassifier(leaf_size= 5, metric= 'manhattan', n_neighbors= 13, weights= 'distance')"
   ]
  },
  {
   "cell_type": "code",
   "execution_count": 103,
   "id": "d8576b73",
   "metadata": {},
   "outputs": [],
   "source": [
    "clf_rfc = RandomForestClassifier(max_depth=3, min_samples_leaf= 15, min_samples_split= 5, n_estimators =610)"
   ]
  },
  {
   "cell_type": "code",
   "execution_count": 104,
   "id": "adf99335",
   "metadata": {},
   "outputs": [],
   "source": [
    "models_cross_val = {'Logistic Regression':clf_log_reg,\n",
    "                    'KNN Classifier':clf_KNN,\n",
    "                    'Random Forest Classifier':clf_rfc}"
   ]
  },
  {
   "cell_type": "code",
   "execution_count": 105,
   "id": "486ceef5",
   "metadata": {},
   "outputs": [],
   "source": [
    "cv_metrics ={}\n",
    "def cross_val_df(model):\n",
    "    cv_metrics['Accuracy']=[]\n",
    "    cv_metrics['Precision']=[]\n",
    "    cv_metrics['Recall']=[]\n",
    "    cv_metrics['F1_score']=[]\n",
    "    for k,v in model.items():\n",
    "        cv_accuracy = np.mean(cross_val_score(v,X,y,cv=5,scoring='accuracy'))\n",
    "        cv_precision = np.mean(cross_val_score(v,X,y,cv=5,scoring='precision'))\n",
    "        cv_recall = np.mean(cross_val_score(v,X,y,cv=5,scoring='recall'))\n",
    "        cv_F1_score = np.mean(cross_val_score(v,X,y,cv=5,scoring='f1'))\n",
    "        cv_metrics['Accuracy'].append(cv_accuracy)\n",
    "        cv_metrics['Precision'].append(cv_precision)\n",
    "        cv_metrics['Recall'].append(cv_recall)\n",
    "        cv_metrics['F1_score'].append(cv_F1_score)\n",
    "    print(cv_metrics)"
   ]
  },
  {
   "cell_type": "code",
   "execution_count": 106,
   "id": "b923ca82",
   "metadata": {},
   "outputs": [
    {
     "name": "stdout",
     "output_type": "stream",
     "text": [
      "{'Accuracy': [0.8118032786885246, 0.699672131147541, 0.8381420765027323], 'Precision': [0.7974200206398349, 0.7008665808665808, 0.8164083365221885], 'Recall': [0.8787878787878787, 0.7818181818181819, 0.8727272727272728], 'F1_score': [0.8357806801875498, 0.7387419148719643, 0.845989795295606]}\n"
     ]
    }
   ],
   "source": [
    "cross_val_df(models_cross_val)"
   ]
  },
  {
   "cell_type": "code",
   "execution_count": 107,
   "id": "8dfee87b",
   "metadata": {},
   "outputs": [
    {
     "data": {
      "text/html": [
       "<div>\n",
       "<style scoped>\n",
       "    .dataframe tbody tr th:only-of-type {\n",
       "        vertical-align: middle;\n",
       "    }\n",
       "\n",
       "    .dataframe tbody tr th {\n",
       "        vertical-align: top;\n",
       "    }\n",
       "\n",
       "    .dataframe thead th {\n",
       "        text-align: right;\n",
       "    }\n",
       "</style>\n",
       "<table border=\"1\" class=\"dataframe\">\n",
       "  <thead>\n",
       "    <tr style=\"text-align: right;\">\n",
       "      <th></th>\n",
       "      <th>Accuracy</th>\n",
       "      <th>Precision</th>\n",
       "      <th>Recall</th>\n",
       "      <th>F1_score</th>\n",
       "    </tr>\n",
       "  </thead>\n",
       "  <tbody>\n",
       "    <tr>\n",
       "      <th>Logistic Regression</th>\n",
       "      <td>0.811803</td>\n",
       "      <td>0.797420</td>\n",
       "      <td>0.878788</td>\n",
       "      <td>0.835781</td>\n",
       "    </tr>\n",
       "    <tr>\n",
       "      <th>KNN Classifier</th>\n",
       "      <td>0.699672</td>\n",
       "      <td>0.700867</td>\n",
       "      <td>0.781818</td>\n",
       "      <td>0.738742</td>\n",
       "    </tr>\n",
       "    <tr>\n",
       "      <th>Random Forest Classifier</th>\n",
       "      <td>0.838142</td>\n",
       "      <td>0.816408</td>\n",
       "      <td>0.872727</td>\n",
       "      <td>0.845990</td>\n",
       "    </tr>\n",
       "  </tbody>\n",
       "</table>\n",
       "</div>"
      ],
      "text/plain": [
       "                          Accuracy  Precision    Recall  F1_score\n",
       "Logistic Regression       0.811803   0.797420  0.878788  0.835781\n",
       "KNN Classifier            0.699672   0.700867  0.781818  0.738742\n",
       "Random Forest Classifier  0.838142   0.816408  0.872727  0.845990"
      ]
     },
     "execution_count": 107,
     "metadata": {},
     "output_type": "execute_result"
    }
   ],
   "source": [
    "cross_val_df = pd.DataFrame(cv_metrics,index=models_cross_val.keys(),columns=['Accuracy','Precision','Recall','F1_score'])\n",
    "cross_val_df"
   ]
  },
  {
   "cell_type": "code",
   "execution_count": 108,
   "id": "3601d513",
   "metadata": {},
   "outputs": [
    {
     "data": {
      "image/png": "[encoded data removed]",
      "text/plain": [
       "<Figure size 864x576 with 1 Axes>"
      ]
     },
     "metadata": {
      "needs_background": "light"
     },
     "output_type": "display_data"
    }
   ],
   "source": [
    "cross_val_df.T.plot.bar(figsize=(12,8))\n",
    "plt.ylim(0.6,0.9)\n",
    "plt.title('Cross Validated scores comparison');"
   ]
  },
  {
   "cell_type": "markdown",
   "id": "8bf06d9f",
   "metadata": {},
   "source": [
    "We can see from the above graph:\n",
    "* KNN classifier is the worst performing model when evaluated using cross validation metrics\n",
    "* Random Forest Classifier performs slightly better than the Logistic Regression model."
   ]
  },
  {
   "cell_type": "markdown",
   "id": "e7dcc5cd",
   "metadata": {},
   "source": [
    "## Feature Importances"
   ]
  },
  {
   "cell_type": "markdown",
   "id": "441d0477",
   "metadata": {},
   "source": [
    "Let us derive the feature importances for Logistic Regression and Random forest classifier models"
   ]
  },
  {
   "cell_type": "code",
   "execution_count": 109,
   "id": "5a68910d",
   "metadata": {},
   "outputs": [
    {
     "data": {
      "text/plain": [
       "array([[ 0.00100923, -0.04614284, -0.03379177,  0.20065488, -0.28642768,\n",
       "        -0.65085174, -0.32467238, -0.07842413,  0.24494351, -0.42907209,\n",
       "        -0.10850599, -0.13694707, -0.2203555 , -0.3930345 ,  0.25399283,\n",
       "        -0.20139407,  0.32039299,  0.07841174, -0.37939211]])"
      ]
     },
     "execution_count": 109,
     "metadata": {},
     "output_type": "execute_result"
    }
   ],
   "source": [
    "log_reg_gridsearch.best_estimator_.coef_"
   ]
  },
  {
   "cell_type": "code",
   "execution_count": 110,
   "id": "cb0cdfe8",
   "metadata": {},
   "outputs": [
    {
     "data": {
      "text/plain": [
       "array([0.02691848, 0.01005273, 0.0113706 , 0.07471738, 0.06995036,\n",
       "       0.16714997, 0.01960011, 0.00108202, 0.02194841, 0.13271202,\n",
       "       0.        , 0.        , 0.00371969, 0.10383148, 0.05066962,\n",
       "       0.03557752, 0.14032815, 0.        , 0.13037145])"
      ]
     },
     "execution_count": 110,
     "metadata": {},
     "output_type": "execute_result"
    }
   ],
   "source": [
    "rfc_gridsearch.best_estimator_.feature_importances_"
   ]
  },
  {
   "cell_type": "code",
   "execution_count": 111,
   "id": "f12e3d9d",
   "metadata": {},
   "outputs": [
    {
     "data": {
      "image/png": "[encoded data removed]",
      "text/plain": [
       "<Figure size 1008x576 with 1 Axes>"
      ]
     },
     "metadata": {
      "needs_background": "light"
     },
     "output_type": "display_data"
    }
   ],
   "source": [
    "feat_imp = pd.Series(data=log_reg_gridsearch.best_estimator_.coef_[0],index=X.columns)\n",
    "feat_imp=feat_imp.sort_values()\n",
    "plt.figure(figsize=(14,8))\n",
    "sns.barplot(x=feat_imp.index,y=feat_imp.values)\n",
    "plt.xticks(rotation=(90))\n",
    "plt.title('Feature Importances for Logistic Regression')\n",
    "plt.show()"
   ]
  },
  {
   "cell_type": "code",
   "execution_count": 112,
   "id": "00fe4111",
   "metadata": {},
   "outputs": [
    {
     "data": {
      "image/png": "[encoded data removed]",
      "text/plain": [
       "<Figure size 1008x576 with 1 Axes>"
      ]
     },
     "metadata": {
      "needs_background": "light"
     },
     "output_type": "display_data"
    }
   ],
   "source": [
    "feat_imp2 = pd.Series(data=rfc_gridsearch.best_estimator_.feature_importances_,index=X.columns)\n",
    "feat_imp2=feat_imp2.sort_values()\n",
    "plt.figure(figsize=(14,8))\n",
    "sns.barplot(x=feat_imp2.index,y=feat_imp2.values)\n",
    "plt.xticks(rotation=(90))\n",
    "plt.title('Feature Importances for Random Forest Classifier')\n",
    "plt.show()"
   ]
  },
  {
   "cell_type": "markdown",
   "id": "8d8bc7d2",
   "metadata": {},
   "source": [
    "From the above feature importances, we can deduce that some features contribute more than other features, and this analysis can help in understanding which users/customers can visit again for heart disease problems.\n",
    "\n",
    "# CONCLUSION\n",
    "\n",
    "* We could achieve a maximum F1 score and accuracy around 84-85% with Logistic Regression and Random Forest Classifier\n",
    "* However, we could not achieve our target value of 95%\n",
    "* We need more data to have a better model and to get more accuracy in our model."
   ]
  },
  {
   "cell_type": "code",
   "execution_count": null,
   "id": "1fba4ece",
   "metadata": {},
   "outputs": [],
   "source": []
  }
 ],
 "metadata": {
  "kernelspec": {
   "display_name": "Python 3",
   "language": "python",
   "name": "python3"
  },
  "language_info": {
   "codemirror_mode": {
    "name": "ipython",
    "version": 3
   },
   "file_extension": ".py",
   "mimetype": "text/x-python",
   "name": "python",
   "nbconvert_exporter": "python",
   "pygments_lexer": "ipython3",
   "version": "3.8.8"
  }
 },
 "nbformat": 4,
 "nbformat_minor": 5
}
